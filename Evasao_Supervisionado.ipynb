{
  "nbformat": 4,
  "nbformat_minor": 0,
  "metadata": {
    "colab": {
      "provenance": [],
      "include_colab_link": true
    },
    "kernelspec": {
      "name": "python3",
      "display_name": "Python 3"
    },
    "language_info": {
      "name": "python"
    }
  },
  "cells": [
    {
      "cell_type": "markdown",
      "metadata": {
        "id": "view-in-github",
        "colab_type": "text"
      },
      "source": [
        "<a href=\"https://colab.research.google.com/github/flaviajb/evasaoEscolar/blob/main/Evasao_Supervisionado.ipynb\" target=\"_parent\"><img src=\"https://colab.research.google.com/assets/colab-badge.svg\" alt=\"Open In Colab\"/></a>"
      ]
    },
    {
      "cell_type": "markdown",
      "source": [
        "# **Aprendizado supervisionado - Evasão**"
      ],
      "metadata": {
        "id": "Vw28qWubPbbg"
      }
    },
    {
      "cell_type": "markdown",
      "source": [
        "Este projeto tem por objetivo desenvolver um algoritmo de Machine Learning para prever a tendência de um aluno se tornar evadido com base em alguns fatores acadêmicos e sociais. "
      ],
      "metadata": {
        "id": "J5yF1Y5GPilc"
      }
    },
    {
      "cell_type": "markdown",
      "source": [
        "Os dados foram extraídos do portal https://www.gov.br/inep/pt-br/acesso-a-informacao/dados-abertos/microdados . Para este estudo serão considerados os anos de 2012, 2013, 2014, 2015 e 2016."
      ],
      "metadata": {
        "id": "jvb9vLqGPxhF"
      }
    },
    {
      "cell_type": "markdown",
      "source": [
        "# Pré-processamento"
      ],
      "metadata": {
        "id": "GlhzTOwoQPXn"
      }
    },
    {
      "cell_type": "code",
      "source": [
        "import pandas as pd"
      ],
      "metadata": {
        "id": "HwADnTmNPwhQ"
      },
      "execution_count": 1,
      "outputs": []
    },
    {
      "cell_type": "code",
      "execution_count": 2,
      "metadata": {
        "id": "Nf-iN-wsPS_G",
        "colab": {
          "base_uri": "https://localhost:8080/"
        },
        "outputId": "f77911f7-276e-4db4-ff5c-4e9a57f8170d"
      },
      "outputs": [
        {
          "output_type": "stream",
          "name": "stdout",
          "text": [
            "Mounted at /content/drive\n"
          ]
        }
      ],
      "source": [
        "from google.colab import drive\n",
        "drive.mount('/content/drive')"
      ]
    },
    {
      "cell_type": "markdown",
      "source": [
        "Lendo os datasets previamente limpos"
      ],
      "metadata": {
        "id": "wev3dxUVQnf1"
      }
    },
    {
      "cell_type": "code",
      "source": [
        "m12 = pd.read_csv('/content/drive/MyDrive/DataScienceUP/EvasaoEscolar/Datasets/DatasetsFiltrados/evasão_12.csv')\n",
        "m13 = pd.read_csv('/content/drive/MyDrive/DataScienceUP/EvasaoEscolar/Datasets/DatasetsFiltrados/evasão_13.csv')\n",
        "m14 = pd.read_csv('/content/drive/MyDrive/DataScienceUP/EvasaoEscolar/Datasets/DatasetsFiltrados/evasão_14.csv')\n",
        "m15 = pd.read_csv('/content/drive/MyDrive/DataScienceUP/EvasaoEscolar/Datasets/DatasetsFiltrados/evasão_15.csv')\n",
        "m16 = pd.read_csv('/content/drive/MyDrive/DataScienceUP/EvasaoEscolar/Datasets/DatasetsFiltrados/evasão_16.csv')"
      ],
      "metadata": {
        "id": "EDU8CQVMQwBO"
      },
      "execution_count": 3,
      "outputs": []
    },
    {
      "cell_type": "code",
      "source": [
        "m12.drop(columns=['Unnamed: 0'], inplace=True)\n",
        "m13.drop(columns=['Unnamed: 0'], inplace=True)\n",
        "m14.drop(columns=['Unnamed: 0'], inplace=True)\n",
        "m15.drop(columns=['Unnamed: 0'], inplace=True)\n",
        "m16.drop(columns=['Unnamed: 0'], inplace=True)"
      ],
      "metadata": {
        "id": "eD7W0_iEQ-Y_"
      },
      "execution_count": 4,
      "outputs": []
    },
    {
      "cell_type": "code",
      "source": [
        "m12['Ano'] = 2012\n",
        "m13['Ano'] = 2013\n",
        "m14['Ano'] = 2014\n",
        "m15['Ano'] = 2015\n",
        "m16['Ano'] = 2016"
      ],
      "metadata": {
        "id": "CMvck16PRE41"
      },
      "execution_count": 5,
      "outputs": []
    },
    {
      "cell_type": "markdown",
      "source": [
        "Concatenando os datasets em um único"
      ],
      "metadata": {
        "id": "AIYDImL2RLDu"
      }
    },
    {
      "cell_type": "code",
      "source": [
        "evasao = pd.concat([m12, m13, m14, m15, m16])"
      ],
      "metadata": {
        "id": "_VoM8lUtRKmB"
      },
      "execution_count": 6,
      "outputs": []
    },
    {
      "cell_type": "code",
      "source": [
        "evasao.head()"
      ],
      "metadata": {
        "colab": {
          "base_uri": "https://localhost:8080/",
          "height": 317
        },
        "id": "YOOaLii9R-at",
        "outputId": "a5a6469c-d588-4392-b9f4-d30fed493d29"
      },
      "execution_count": 7,
      "outputs": [
        {
          "output_type": "execute_result",
          "data": {
            "text/plain": [
              "             ID  Idade  Necessidade_especial  Cegueira  Baixa_visao  Surdez  \\\n",
              "0  1.100036e+11   13.0                   0.0       0.0          0.0     0.0   \n",
              "1  1.100110e+11   14.0                   0.0       0.0          0.0     0.0   \n",
              "2  1.100167e+11   12.0                   0.0       0.0          0.0     0.0   \n",
              "3  1.100174e+11   12.0                   0.0       0.0          0.0     0.0   \n",
              "4  1.100192e+11   11.0                   0.0       0.0          0.0     0.0   \n",
              "\n",
              "   Def_auditiva  Surdocegueira  Def_fisica  Def_intelectual  ...  \\\n",
              "0           0.0            0.0         0.0              0.0  ...   \n",
              "1           0.0            0.0         0.0              0.0  ...   \n",
              "2           0.0            0.0         0.0              0.0  ...   \n",
              "3           0.0            0.0         0.0              0.0  ...   \n",
              "4           0.0            0.0         0.0              0.0  ...   \n",
              "\n",
              "   Tipo_turma_Não se aplica  Tipo_turma_Unidade prisional  Localizacao_Rural  \\\n",
              "0                       1.0                           0.0                0.0   \n",
              "1                       1.0                           0.0                0.0   \n",
              "2                       1.0                           0.0                0.0   \n",
              "3                       1.0                           0.0                0.0   \n",
              "4                       1.0                           0.0                0.0   \n",
              "\n",
              "   Localizacao_Urbana  Administracao_Federal  Administracao_Municipal  \\\n",
              "0                   1                      0                        0   \n",
              "1                   1                      0                        0   \n",
              "2                   1                      0                        0   \n",
              "3                   1                      0                        1   \n",
              "4                   1                      0                        0   \n",
              "\n",
              "   Administracao_Privada   Ano Sexo_M  Unificada_Multietapa  \n",
              "0                      0  2012    NaN                   NaN  \n",
              "1                      0  2012    NaN                   NaN  \n",
              "2                      0  2012    NaN                   NaN  \n",
              "3                      0  2012    NaN                   NaN  \n",
              "4                      1  2012    NaN                   NaN  \n",
              "\n",
              "[5 rows x 43 columns]"
            ],
            "text/html": [
              "\n",
              "  <div id=\"df-c69405fe-fa0f-4801-a4d6-f344c14fca4a\">\n",
              "    <div class=\"colab-df-container\">\n",
              "      <div>\n",
              "<style scoped>\n",
              "    .dataframe tbody tr th:only-of-type {\n",
              "        vertical-align: middle;\n",
              "    }\n",
              "\n",
              "    .dataframe tbody tr th {\n",
              "        vertical-align: top;\n",
              "    }\n",
              "\n",
              "    .dataframe thead th {\n",
              "        text-align: right;\n",
              "    }\n",
              "</style>\n",
              "<table border=\"1\" class=\"dataframe\">\n",
              "  <thead>\n",
              "    <tr style=\"text-align: right;\">\n",
              "      <th></th>\n",
              "      <th>ID</th>\n",
              "      <th>Idade</th>\n",
              "      <th>Necessidade_especial</th>\n",
              "      <th>Cegueira</th>\n",
              "      <th>Baixa_visao</th>\n",
              "      <th>Surdez</th>\n",
              "      <th>Def_auditiva</th>\n",
              "      <th>Surdocegueira</th>\n",
              "      <th>Def_fisica</th>\n",
              "      <th>Def_intelectual</th>\n",
              "      <th>...</th>\n",
              "      <th>Tipo_turma_Não se aplica</th>\n",
              "      <th>Tipo_turma_Unidade prisional</th>\n",
              "      <th>Localizacao_Rural</th>\n",
              "      <th>Localizacao_Urbana</th>\n",
              "      <th>Administracao_Federal</th>\n",
              "      <th>Administracao_Municipal</th>\n",
              "      <th>Administracao_Privada</th>\n",
              "      <th>Ano</th>\n",
              "      <th>Sexo_M</th>\n",
              "      <th>Unificada_Multietapa</th>\n",
              "    </tr>\n",
              "  </thead>\n",
              "  <tbody>\n",
              "    <tr>\n",
              "      <th>0</th>\n",
              "      <td>1.100036e+11</td>\n",
              "      <td>13.0</td>\n",
              "      <td>0.0</td>\n",
              "      <td>0.0</td>\n",
              "      <td>0.0</td>\n",
              "      <td>0.0</td>\n",
              "      <td>0.0</td>\n",
              "      <td>0.0</td>\n",
              "      <td>0.0</td>\n",
              "      <td>0.0</td>\n",
              "      <td>...</td>\n",
              "      <td>1.0</td>\n",
              "      <td>0.0</td>\n",
              "      <td>0.0</td>\n",
              "      <td>1</td>\n",
              "      <td>0</td>\n",
              "      <td>0</td>\n",
              "      <td>0</td>\n",
              "      <td>2012</td>\n",
              "      <td>NaN</td>\n",
              "      <td>NaN</td>\n",
              "    </tr>\n",
              "    <tr>\n",
              "      <th>1</th>\n",
              "      <td>1.100110e+11</td>\n",
              "      <td>14.0</td>\n",
              "      <td>0.0</td>\n",
              "      <td>0.0</td>\n",
              "      <td>0.0</td>\n",
              "      <td>0.0</td>\n",
              "      <td>0.0</td>\n",
              "      <td>0.0</td>\n",
              "      <td>0.0</td>\n",
              "      <td>0.0</td>\n",
              "      <td>...</td>\n",
              "      <td>1.0</td>\n",
              "      <td>0.0</td>\n",
              "      <td>0.0</td>\n",
              "      <td>1</td>\n",
              "      <td>0</td>\n",
              "      <td>0</td>\n",
              "      <td>0</td>\n",
              "      <td>2012</td>\n",
              "      <td>NaN</td>\n",
              "      <td>NaN</td>\n",
              "    </tr>\n",
              "    <tr>\n",
              "      <th>2</th>\n",
              "      <td>1.100167e+11</td>\n",
              "      <td>12.0</td>\n",
              "      <td>0.0</td>\n",
              "      <td>0.0</td>\n",
              "      <td>0.0</td>\n",
              "      <td>0.0</td>\n",
              "      <td>0.0</td>\n",
              "      <td>0.0</td>\n",
              "      <td>0.0</td>\n",
              "      <td>0.0</td>\n",
              "      <td>...</td>\n",
              "      <td>1.0</td>\n",
              "      <td>0.0</td>\n",
              "      <td>0.0</td>\n",
              "      <td>1</td>\n",
              "      <td>0</td>\n",
              "      <td>0</td>\n",
              "      <td>0</td>\n",
              "      <td>2012</td>\n",
              "      <td>NaN</td>\n",
              "      <td>NaN</td>\n",
              "    </tr>\n",
              "    <tr>\n",
              "      <th>3</th>\n",
              "      <td>1.100174e+11</td>\n",
              "      <td>12.0</td>\n",
              "      <td>0.0</td>\n",
              "      <td>0.0</td>\n",
              "      <td>0.0</td>\n",
              "      <td>0.0</td>\n",
              "      <td>0.0</td>\n",
              "      <td>0.0</td>\n",
              "      <td>0.0</td>\n",
              "      <td>0.0</td>\n",
              "      <td>...</td>\n",
              "      <td>1.0</td>\n",
              "      <td>0.0</td>\n",
              "      <td>0.0</td>\n",
              "      <td>1</td>\n",
              "      <td>0</td>\n",
              "      <td>1</td>\n",
              "      <td>0</td>\n",
              "      <td>2012</td>\n",
              "      <td>NaN</td>\n",
              "      <td>NaN</td>\n",
              "    </tr>\n",
              "    <tr>\n",
              "      <th>4</th>\n",
              "      <td>1.100192e+11</td>\n",
              "      <td>11.0</td>\n",
              "      <td>0.0</td>\n",
              "      <td>0.0</td>\n",
              "      <td>0.0</td>\n",
              "      <td>0.0</td>\n",
              "      <td>0.0</td>\n",
              "      <td>0.0</td>\n",
              "      <td>0.0</td>\n",
              "      <td>0.0</td>\n",
              "      <td>...</td>\n",
              "      <td>1.0</td>\n",
              "      <td>0.0</td>\n",
              "      <td>0.0</td>\n",
              "      <td>1</td>\n",
              "      <td>0</td>\n",
              "      <td>0</td>\n",
              "      <td>1</td>\n",
              "      <td>2012</td>\n",
              "      <td>NaN</td>\n",
              "      <td>NaN</td>\n",
              "    </tr>\n",
              "  </tbody>\n",
              "</table>\n",
              "<p>5 rows × 43 columns</p>\n",
              "</div>\n",
              "      <button class=\"colab-df-convert\" onclick=\"convertToInteractive('df-c69405fe-fa0f-4801-a4d6-f344c14fca4a')\"\n",
              "              title=\"Convert this dataframe to an interactive table.\"\n",
              "              style=\"display:none;\">\n",
              "        \n",
              "  <svg xmlns=\"http://www.w3.org/2000/svg\" height=\"24px\"viewBox=\"0 0 24 24\"\n",
              "       width=\"24px\">\n",
              "    <path d=\"M0 0h24v24H0V0z\" fill=\"none\"/>\n",
              "    <path d=\"M18.56 5.44l.94 2.06.94-2.06 2.06-.94-2.06-.94-.94-2.06-.94 2.06-2.06.94zm-11 1L8.5 8.5l.94-2.06 2.06-.94-2.06-.94L8.5 2.5l-.94 2.06-2.06.94zm10 10l.94 2.06.94-2.06 2.06-.94-2.06-.94-.94-2.06-.94 2.06-2.06.94z\"/><path d=\"M17.41 7.96l-1.37-1.37c-.4-.4-.92-.59-1.43-.59-.52 0-1.04.2-1.43.59L10.3 9.45l-7.72 7.72c-.78.78-.78 2.05 0 2.83L4 21.41c.39.39.9.59 1.41.59.51 0 1.02-.2 1.41-.59l7.78-7.78 2.81-2.81c.8-.78.8-2.07 0-2.86zM5.41 20L4 18.59l7.72-7.72 1.47 1.35L5.41 20z\"/>\n",
              "  </svg>\n",
              "      </button>\n",
              "      \n",
              "  <style>\n",
              "    .colab-df-container {\n",
              "      display:flex;\n",
              "      flex-wrap:wrap;\n",
              "      gap: 12px;\n",
              "    }\n",
              "\n",
              "    .colab-df-convert {\n",
              "      background-color: #E8F0FE;\n",
              "      border: none;\n",
              "      border-radius: 50%;\n",
              "      cursor: pointer;\n",
              "      display: none;\n",
              "      fill: #1967D2;\n",
              "      height: 32px;\n",
              "      padding: 0 0 0 0;\n",
              "      width: 32px;\n",
              "    }\n",
              "\n",
              "    .colab-df-convert:hover {\n",
              "      background-color: #E2EBFA;\n",
              "      box-shadow: 0px 1px 2px rgba(60, 64, 67, 0.3), 0px 1px 3px 1px rgba(60, 64, 67, 0.15);\n",
              "      fill: #174EA6;\n",
              "    }\n",
              "\n",
              "    [theme=dark] .colab-df-convert {\n",
              "      background-color: #3B4455;\n",
              "      fill: #D2E3FC;\n",
              "    }\n",
              "\n",
              "    [theme=dark] .colab-df-convert:hover {\n",
              "      background-color: #434B5C;\n",
              "      box-shadow: 0px 1px 3px 1px rgba(0, 0, 0, 0.15);\n",
              "      filter: drop-shadow(0px 1px 2px rgba(0, 0, 0, 0.3));\n",
              "      fill: #FFFFFF;\n",
              "    }\n",
              "  </style>\n",
              "\n",
              "      <script>\n",
              "        const buttonEl =\n",
              "          document.querySelector('#df-c69405fe-fa0f-4801-a4d6-f344c14fca4a button.colab-df-convert');\n",
              "        buttonEl.style.display =\n",
              "          google.colab.kernel.accessAllowed ? 'block' : 'none';\n",
              "\n",
              "        async function convertToInteractive(key) {\n",
              "          const element = document.querySelector('#df-c69405fe-fa0f-4801-a4d6-f344c14fca4a');\n",
              "          const dataTable =\n",
              "            await google.colab.kernel.invokeFunction('convertToInteractive',\n",
              "                                                     [key], {});\n",
              "          if (!dataTable) return;\n",
              "\n",
              "          const docLinkHtml = 'Like what you see? Visit the ' +\n",
              "            '<a target=\"_blank\" href=https://colab.research.google.com/notebooks/data_table.ipynb>data table notebook</a>'\n",
              "            + ' to learn more about interactive tables.';\n",
              "          element.innerHTML = '';\n",
              "          dataTable['output_type'] = 'display_data';\n",
              "          await google.colab.output.renderOutput(dataTable, element);\n",
              "          const docLink = document.createElement('div');\n",
              "          docLink.innerHTML = docLinkHtml;\n",
              "          element.appendChild(docLink);\n",
              "        }\n",
              "      </script>\n",
              "    </div>\n",
              "  </div>\n",
              "  "
            ]
          },
          "metadata": {},
          "execution_count": 7
        }
      ]
    },
    {
      "cell_type": "markdown",
      "source": [
        "Listando as colunas do dataset"
      ],
      "metadata": {
        "id": "d5IZ58-lSOpB"
      }
    },
    {
      "cell_type": "code",
      "source": [
        "evasao.columns.tolist()"
      ],
      "metadata": {
        "colab": {
          "base_uri": "https://localhost:8080/"
        },
        "id": "k8ihWqrJSQ2V",
        "outputId": "a98ca51a-37f9-450c-ef48-d51b958a3a95"
      },
      "execution_count": null,
      "outputs": [
        {
          "output_type": "execute_result",
          "data": {
            "text/plain": [
              "['ID',\n",
              " 'Idade',\n",
              " 'Necessidade_especial',\n",
              " 'Cegueira',\n",
              " 'Baixa_visao',\n",
              " 'Surdez',\n",
              " 'Def_auditiva',\n",
              " 'Surdocegueira',\n",
              " 'Def_fisica',\n",
              " 'Def_intelectual',\n",
              " 'Def_multipla',\n",
              " 'Autismo',\n",
              " 'Asperger',\n",
              " 'Rett',\n",
              " 'Transtorno_DI',\n",
              " 'Superdotacao',\n",
              " 'Etapa_ensino',\n",
              " 'ID_escola',\n",
              " 'Status',\n",
              " 'Etnia_Branca',\n",
              " 'Etnia_Indígena',\n",
              " 'Etnia_Não Declarada',\n",
              " 'Etnia_Parda',\n",
              " 'Etnia_Preta',\n",
              " 'Nacionalidade_Brasileiro',\n",
              " 'Nacionalidade_Extrangeiro',\n",
              " 'Nacionalidade_Naturalizado',\n",
              " 'Zona_res_Urbana',\n",
              " 'Outro_local_aula_Hospital',\n",
              " 'Outro_local_aula_Não recebe',\n",
              " 'Unificada_Multi',\n",
              " 'Unificada_Não',\n",
              " 'Tipo_turma_Classe Hospitalar',\n",
              " 'Tipo_turma_Não se aplica',\n",
              " 'Tipo_turma_Unidade prisional',\n",
              " 'Localizacao_Rural',\n",
              " 'Localizacao_Urbana',\n",
              " 'Administracao_Federal',\n",
              " 'Administracao_Municipal',\n",
              " 'Administracao_Privada',\n",
              " 'Ano',\n",
              " 'Sexo_M',\n",
              " 'Unificada_Multietapa']"
            ]
          },
          "metadata": {},
          "execution_count": 13
        }
      ]
    },
    {
      "cell_type": "code",
      "source": [
        "evasao.shape"
      ],
      "metadata": {
        "colab": {
          "base_uri": "https://localhost:8080/"
        },
        "id": "e1ETUnnDSj07",
        "outputId": "c174ce1a-dce4-4701-9fb9-8d911723256e"
      },
      "execution_count": null,
      "outputs": [
        {
          "output_type": "execute_result",
          "data": {
            "text/plain": [
              "(829709, 43)"
            ]
          },
          "metadata": {},
          "execution_count": 14
        }
      ]
    },
    {
      "cell_type": "markdown",
      "source": [
        "#Transformando as variáveis categóricas nominais em variáveis categóricas ordinais"
      ],
      "metadata": {
        "id": "U631vw6-UX2W"
      }
    },
    {
      "cell_type": "code",
      "source": [
        "evasao2 = pd.DataFrame.copy(evasao)"
      ],
      "metadata": {
        "id": "j4GUAkQFUba0"
      },
      "execution_count": 8,
      "outputs": []
    },
    {
      "cell_type": "markdown",
      "source": [
        "Das colunas do dataset que não possuem dados numéricos, iremos utilizar apenas a coluna \"Status\". Para esse estudo, o target será a evasão, dessa forma, os demais status serão classificados como 0 e o status evadido como 1."
      ],
      "metadata": {
        "id": "4cFcNREcb2db"
      }
    },
    {
      "cell_type": "code",
      "source": [
        "evasao2['Status'].replace({'repetente': 0, 'aprovado': 0, 'evadido': 1}, inplace=True)"
      ],
      "metadata": {
        "id": "zBOHwzzFUxnp"
      },
      "execution_count": 9,
      "outputs": []
    },
    {
      "cell_type": "markdown",
      "source": [
        "Excluindo colunas não utilizadas."
      ],
      "metadata": {
        "id": "nJZCLxU1cX6o"
      }
    },
    {
      "cell_type": "code",
      "source": [
        "evasao2.drop(columns=[\n",
        " 'ID', \n",
        " 'ID_escola',\n",
        " 'Etnia_Branca',\n",
        " 'Etnia_Indígena',\n",
        " 'Etnia_Não Declarada',\n",
        " 'Etnia_Parda',\n",
        " 'Etnia_Preta',\n",
        " 'Nacionalidade_Brasileiro',\n",
        " 'Nacionalidade_Extrangeiro',\n",
        " 'Nacionalidade_Naturalizado',\n",
        " 'Zona_res_Urbana',\n",
        " 'Outro_local_aula_Hospital',\n",
        " 'Outro_local_aula_Não recebe',\n",
        " 'Unificada_Multi',\n",
        " 'Unificada_Não',\n",
        " 'Tipo_turma_Classe Hospitalar',\n",
        " 'Tipo_turma_Não se aplica',\n",
        " 'Tipo_turma_Unidade prisional',\n",
        " 'Localizacao_Rural',\n",
        " 'Localizacao_Urbana',\n",
        " 'Administracao_Federal',\n",
        " 'Administracao_Municipal',\n",
        " 'Administracao_Privada',\n",
        " 'Ano',\n",
        " 'Sexo_M',\n",
        " 'Unificada_Multietapa'\n",
        "], inplace=True)"
      ],
      "metadata": {
        "id": "U2zvNWtsdQ_P"
      },
      "execution_count": 10,
      "outputs": []
    },
    {
      "cell_type": "code",
      "source": [
        "evasao2.head()"
      ],
      "metadata": {
        "colab": {
          "base_uri": "https://localhost:8080/",
          "height": 270
        },
        "id": "oEjQZKTWVD4u",
        "outputId": "eb010b8e-fa9d-4fd1-b622-264ed286c15d"
      },
      "execution_count": 11,
      "outputs": [
        {
          "output_type": "execute_result",
          "data": {
            "text/plain": [
              "   Idade  Necessidade_especial  Cegueira  Baixa_visao  Surdez  Def_auditiva  \\\n",
              "0   13.0                   0.0       0.0          0.0     0.0           0.0   \n",
              "1   14.0                   0.0       0.0          0.0     0.0           0.0   \n",
              "2   12.0                   0.0       0.0          0.0     0.0           0.0   \n",
              "3   12.0                   0.0       0.0          0.0     0.0           0.0   \n",
              "4   11.0                   0.0       0.0          0.0     0.0           0.0   \n",
              "\n",
              "   Surdocegueira  Def_fisica  Def_intelectual  Def_multipla  Autismo  \\\n",
              "0            0.0         0.0              0.0           0.0      0.0   \n",
              "1            0.0         0.0              0.0           0.0      0.0   \n",
              "2            0.0         0.0              0.0           0.0      0.0   \n",
              "3            0.0         0.0              0.0           0.0      0.0   \n",
              "4            0.0         0.0              0.0           0.0      0.0   \n",
              "\n",
              "   Asperger  Rett  Transtorno_DI  Superdotacao  Etapa_ensino  Status  \n",
              "0       0.0   0.0            0.0           0.0           8.0       0  \n",
              "1       0.0   0.0            0.0           0.0           6.0       1  \n",
              "2       0.0   0.0            0.0           0.0           7.0       0  \n",
              "3       0.0   0.0            0.0           0.0           5.0       1  \n",
              "4       0.0   0.0            0.0           0.0           6.0       0  "
            ],
            "text/html": [
              "\n",
              "  <div id=\"df-abab79a5-13d5-4e1c-ad48-78bc2cd11fda\">\n",
              "    <div class=\"colab-df-container\">\n",
              "      <div>\n",
              "<style scoped>\n",
              "    .dataframe tbody tr th:only-of-type {\n",
              "        vertical-align: middle;\n",
              "    }\n",
              "\n",
              "    .dataframe tbody tr th {\n",
              "        vertical-align: top;\n",
              "    }\n",
              "\n",
              "    .dataframe thead th {\n",
              "        text-align: right;\n",
              "    }\n",
              "</style>\n",
              "<table border=\"1\" class=\"dataframe\">\n",
              "  <thead>\n",
              "    <tr style=\"text-align: right;\">\n",
              "      <th></th>\n",
              "      <th>Idade</th>\n",
              "      <th>Necessidade_especial</th>\n",
              "      <th>Cegueira</th>\n",
              "      <th>Baixa_visao</th>\n",
              "      <th>Surdez</th>\n",
              "      <th>Def_auditiva</th>\n",
              "      <th>Surdocegueira</th>\n",
              "      <th>Def_fisica</th>\n",
              "      <th>Def_intelectual</th>\n",
              "      <th>Def_multipla</th>\n",
              "      <th>Autismo</th>\n",
              "      <th>Asperger</th>\n",
              "      <th>Rett</th>\n",
              "      <th>Transtorno_DI</th>\n",
              "      <th>Superdotacao</th>\n",
              "      <th>Etapa_ensino</th>\n",
              "      <th>Status</th>\n",
              "    </tr>\n",
              "  </thead>\n",
              "  <tbody>\n",
              "    <tr>\n",
              "      <th>0</th>\n",
              "      <td>13.0</td>\n",
              "      <td>0.0</td>\n",
              "      <td>0.0</td>\n",
              "      <td>0.0</td>\n",
              "      <td>0.0</td>\n",
              "      <td>0.0</td>\n",
              "      <td>0.0</td>\n",
              "      <td>0.0</td>\n",
              "      <td>0.0</td>\n",
              "      <td>0.0</td>\n",
              "      <td>0.0</td>\n",
              "      <td>0.0</td>\n",
              "      <td>0.0</td>\n",
              "      <td>0.0</td>\n",
              "      <td>0.0</td>\n",
              "      <td>8.0</td>\n",
              "      <td>0</td>\n",
              "    </tr>\n",
              "    <tr>\n",
              "      <th>1</th>\n",
              "      <td>14.0</td>\n",
              "      <td>0.0</td>\n",
              "      <td>0.0</td>\n",
              "      <td>0.0</td>\n",
              "      <td>0.0</td>\n",
              "      <td>0.0</td>\n",
              "      <td>0.0</td>\n",
              "      <td>0.0</td>\n",
              "      <td>0.0</td>\n",
              "      <td>0.0</td>\n",
              "      <td>0.0</td>\n",
              "      <td>0.0</td>\n",
              "      <td>0.0</td>\n",
              "      <td>0.0</td>\n",
              "      <td>0.0</td>\n",
              "      <td>6.0</td>\n",
              "      <td>1</td>\n",
              "    </tr>\n",
              "    <tr>\n",
              "      <th>2</th>\n",
              "      <td>12.0</td>\n",
              "      <td>0.0</td>\n",
              "      <td>0.0</td>\n",
              "      <td>0.0</td>\n",
              "      <td>0.0</td>\n",
              "      <td>0.0</td>\n",
              "      <td>0.0</td>\n",
              "      <td>0.0</td>\n",
              "      <td>0.0</td>\n",
              "      <td>0.0</td>\n",
              "      <td>0.0</td>\n",
              "      <td>0.0</td>\n",
              "      <td>0.0</td>\n",
              "      <td>0.0</td>\n",
              "      <td>0.0</td>\n",
              "      <td>7.0</td>\n",
              "      <td>0</td>\n",
              "    </tr>\n",
              "    <tr>\n",
              "      <th>3</th>\n",
              "      <td>12.0</td>\n",
              "      <td>0.0</td>\n",
              "      <td>0.0</td>\n",
              "      <td>0.0</td>\n",
              "      <td>0.0</td>\n",
              "      <td>0.0</td>\n",
              "      <td>0.0</td>\n",
              "      <td>0.0</td>\n",
              "      <td>0.0</td>\n",
              "      <td>0.0</td>\n",
              "      <td>0.0</td>\n",
              "      <td>0.0</td>\n",
              "      <td>0.0</td>\n",
              "      <td>0.0</td>\n",
              "      <td>0.0</td>\n",
              "      <td>5.0</td>\n",
              "      <td>1</td>\n",
              "    </tr>\n",
              "    <tr>\n",
              "      <th>4</th>\n",
              "      <td>11.0</td>\n",
              "      <td>0.0</td>\n",
              "      <td>0.0</td>\n",
              "      <td>0.0</td>\n",
              "      <td>0.0</td>\n",
              "      <td>0.0</td>\n",
              "      <td>0.0</td>\n",
              "      <td>0.0</td>\n",
              "      <td>0.0</td>\n",
              "      <td>0.0</td>\n",
              "      <td>0.0</td>\n",
              "      <td>0.0</td>\n",
              "      <td>0.0</td>\n",
              "      <td>0.0</td>\n",
              "      <td>0.0</td>\n",
              "      <td>6.0</td>\n",
              "      <td>0</td>\n",
              "    </tr>\n",
              "  </tbody>\n",
              "</table>\n",
              "</div>\n",
              "      <button class=\"colab-df-convert\" onclick=\"convertToInteractive('df-abab79a5-13d5-4e1c-ad48-78bc2cd11fda')\"\n",
              "              title=\"Convert this dataframe to an interactive table.\"\n",
              "              style=\"display:none;\">\n",
              "        \n",
              "  <svg xmlns=\"http://www.w3.org/2000/svg\" height=\"24px\"viewBox=\"0 0 24 24\"\n",
              "       width=\"24px\">\n",
              "    <path d=\"M0 0h24v24H0V0z\" fill=\"none\"/>\n",
              "    <path d=\"M18.56 5.44l.94 2.06.94-2.06 2.06-.94-2.06-.94-.94-2.06-.94 2.06-2.06.94zm-11 1L8.5 8.5l.94-2.06 2.06-.94-2.06-.94L8.5 2.5l-.94 2.06-2.06.94zm10 10l.94 2.06.94-2.06 2.06-.94-2.06-.94-.94-2.06-.94 2.06-2.06.94z\"/><path d=\"M17.41 7.96l-1.37-1.37c-.4-.4-.92-.59-1.43-.59-.52 0-1.04.2-1.43.59L10.3 9.45l-7.72 7.72c-.78.78-.78 2.05 0 2.83L4 21.41c.39.39.9.59 1.41.59.51 0 1.02-.2 1.41-.59l7.78-7.78 2.81-2.81c.8-.78.8-2.07 0-2.86zM5.41 20L4 18.59l7.72-7.72 1.47 1.35L5.41 20z\"/>\n",
              "  </svg>\n",
              "      </button>\n",
              "      \n",
              "  <style>\n",
              "    .colab-df-container {\n",
              "      display:flex;\n",
              "      flex-wrap:wrap;\n",
              "      gap: 12px;\n",
              "    }\n",
              "\n",
              "    .colab-df-convert {\n",
              "      background-color: #E8F0FE;\n",
              "      border: none;\n",
              "      border-radius: 50%;\n",
              "      cursor: pointer;\n",
              "      display: none;\n",
              "      fill: #1967D2;\n",
              "      height: 32px;\n",
              "      padding: 0 0 0 0;\n",
              "      width: 32px;\n",
              "    }\n",
              "\n",
              "    .colab-df-convert:hover {\n",
              "      background-color: #E2EBFA;\n",
              "      box-shadow: 0px 1px 2px rgba(60, 64, 67, 0.3), 0px 1px 3px 1px rgba(60, 64, 67, 0.15);\n",
              "      fill: #174EA6;\n",
              "    }\n",
              "\n",
              "    [theme=dark] .colab-df-convert {\n",
              "      background-color: #3B4455;\n",
              "      fill: #D2E3FC;\n",
              "    }\n",
              "\n",
              "    [theme=dark] .colab-df-convert:hover {\n",
              "      background-color: #434B5C;\n",
              "      box-shadow: 0px 1px 3px 1px rgba(0, 0, 0, 0.15);\n",
              "      filter: drop-shadow(0px 1px 2px rgba(0, 0, 0, 0.3));\n",
              "      fill: #FFFFFF;\n",
              "    }\n",
              "  </style>\n",
              "\n",
              "      <script>\n",
              "        const buttonEl =\n",
              "          document.querySelector('#df-abab79a5-13d5-4e1c-ad48-78bc2cd11fda button.colab-df-convert');\n",
              "        buttonEl.style.display =\n",
              "          google.colab.kernel.accessAllowed ? 'block' : 'none';\n",
              "\n",
              "        async function convertToInteractive(key) {\n",
              "          const element = document.querySelector('#df-abab79a5-13d5-4e1c-ad48-78bc2cd11fda');\n",
              "          const dataTable =\n",
              "            await google.colab.kernel.invokeFunction('convertToInteractive',\n",
              "                                                     [key], {});\n",
              "          if (!dataTable) return;\n",
              "\n",
              "          const docLinkHtml = 'Like what you see? Visit the ' +\n",
              "            '<a target=\"_blank\" href=https://colab.research.google.com/notebooks/data_table.ipynb>data table notebook</a>'\n",
              "            + ' to learn more about interactive tables.';\n",
              "          element.innerHTML = '';\n",
              "          dataTable['output_type'] = 'display_data';\n",
              "          await google.colab.output.renderOutput(dataTable, element);\n",
              "          const docLink = document.createElement('div');\n",
              "          docLink.innerHTML = docLinkHtml;\n",
              "          element.appendChild(docLink);\n",
              "        }\n",
              "      </script>\n",
              "    </div>\n",
              "  </div>\n",
              "  "
            ]
          },
          "metadata": {},
          "execution_count": 11
        }
      ]
    },
    {
      "cell_type": "markdown",
      "source": [
        "Exibindo os tipos de dados das colunas do dataset. Todas com variáveis categóricas ordinais."
      ],
      "metadata": {
        "id": "HX5nho9MccbG"
      }
    },
    {
      "cell_type": "code",
      "source": [
        "evasao2.dtypes"
      ],
      "metadata": {
        "colab": {
          "base_uri": "https://localhost:8080/"
        },
        "id": "m0CBrYhjVLYH",
        "outputId": "c4bc8191-62b2-47ef-e3a2-4ea26ab1f0d0"
      },
      "execution_count": 12,
      "outputs": [
        {
          "output_type": "execute_result",
          "data": {
            "text/plain": [
              "Idade                   float64\n",
              "Necessidade_especial    float64\n",
              "Cegueira                float64\n",
              "Baixa_visao             float64\n",
              "Surdez                  float64\n",
              "Def_auditiva            float64\n",
              "Surdocegueira           float64\n",
              "Def_fisica              float64\n",
              "Def_intelectual         float64\n",
              "Def_multipla            float64\n",
              "Autismo                 float64\n",
              "Asperger                float64\n",
              "Rett                    float64\n",
              "Transtorno_DI           float64\n",
              "Superdotacao            float64\n",
              "Etapa_ensino            float64\n",
              "Status                    int64\n",
              "dtype: object"
            ]
          },
          "metadata": {},
          "execution_count": 12
        }
      ]
    },
    {
      "cell_type": "markdown",
      "source": [
        "Com a exclusão das colunas não utilizadas, o número de colunas foi reduzido de 43 para 17."
      ],
      "metadata": {
        "id": "K2xIWfkDclYD"
      }
    },
    {
      "cell_type": "code",
      "source": [
        "evasao2.shape"
      ],
      "metadata": {
        "colab": {
          "base_uri": "https://localhost:8080/"
        },
        "id": "1bK6EZKFViPE",
        "outputId": "62b3d548-b569-42b4-b813-3e418f038858"
      },
      "execution_count": null,
      "outputs": [
        {
          "output_type": "execute_result",
          "data": {
            "text/plain": [
              "(829709, 17)"
            ]
          },
          "metadata": {},
          "execution_count": 21
        }
      ]
    },
    {
      "cell_type": "markdown",
      "source": [
        "# Atributos previsores e alvo"
      ],
      "metadata": {
        "id": "TwKe0qLNVrHG"
      }
    },
    {
      "cell_type": "markdown",
      "source": [
        "A seguir, a criação dos previsores e alvos para uso nos algoritmos."
      ],
      "metadata": {
        "id": "oGzrLC-RfCJ8"
      }
    },
    {
      "cell_type": "markdown",
      "source": [
        "alvo = variável que se pretende atingir (evadido ou não).\n",
        "\n",
        "previsores = conjunto de variáveis previsoras com as variáveis categóricas transformadas em numéricas manualmente, sem escalonar.\n",
        "\n",
        "previsores_esc = conjunto de variáveis previsoras com as variáveis categóricas transformadas em numéricas, escalonada."
      ],
      "metadata": {
        "id": "UBcMfJb-fMpV"
      }
    },
    {
      "cell_type": "code",
      "source": [
        "previsores = evasao2.iloc[:, 0:11].values"
      ],
      "metadata": {
        "id": "8e-wIIcpV0XX"
      },
      "execution_count": 57,
      "outputs": []
    },
    {
      "cell_type": "code",
      "source": [
        "previsores"
      ],
      "metadata": {
        "colab": {
          "base_uri": "https://localhost:8080/"
        },
        "id": "Xr1lTi4zV8Xu",
        "outputId": "e95838a9-8473-4802-8a3c-abb0dc9a0df2"
      },
      "execution_count": 58,
      "outputs": [
        {
          "output_type": "execute_result",
          "data": {
            "text/plain": [
              "array([[13.,  0.,  0., ...,  0.,  0.,  0.],\n",
              "       [14.,  0.,  0., ...,  0.,  0.,  0.],\n",
              "       [12.,  0.,  0., ...,  0.,  0.,  0.],\n",
              "       ...,\n",
              "       [ 6.,  0.,  0., ...,  0.,  0.,  0.],\n",
              "       [ 7.,  0.,  0., ...,  0.,  0.,  0.],\n",
              "       [ 6.,  0.,  0., ...,  0.,  0.,  0.]])"
            ]
          },
          "metadata": {},
          "execution_count": 58
        }
      ]
    },
    {
      "cell_type": "code",
      "source": [
        "previsores.shape"
      ],
      "metadata": {
        "colab": {
          "base_uri": "https://localhost:8080/"
        },
        "id": "tbBltPxKWUQB",
        "outputId": "d777904d-3a1a-4379-8f4d-255cbff1c791"
      },
      "execution_count": 59,
      "outputs": [
        {
          "output_type": "execute_result",
          "data": {
            "text/plain": [
              "(829709, 11)"
            ]
          },
          "metadata": {},
          "execution_count": 59
        }
      ]
    },
    {
      "cell_type": "code",
      "source": [
        "alvo = evasao2.iloc[:, 11].values"
      ],
      "metadata": {
        "id": "hvnLkhy-WbVO"
      },
      "execution_count": 60,
      "outputs": []
    },
    {
      "cell_type": "code",
      "source": [
        "alvo"
      ],
      "metadata": {
        "colab": {
          "base_uri": "https://localhost:8080/"
        },
        "id": "1TddXdmzWgmu",
        "outputId": "f670898b-5af4-4d8d-c03c-b721bbe9f8f5"
      },
      "execution_count": 61,
      "outputs": [
        {
          "output_type": "execute_result",
          "data": {
            "text/plain": [
              "array([0., 0., 0., ..., 0., 0., 0.])"
            ]
          },
          "metadata": {},
          "execution_count": 61
        }
      ]
    },
    {
      "cell_type": "code",
      "source": [
        "alvo.shape"
      ],
      "metadata": {
        "colab": {
          "base_uri": "https://localhost:8080/"
        },
        "id": "HNCFM-q_Wm2E",
        "outputId": "09218a88-9690-49d6-c877-297d4cd19b92"
      },
      "execution_count": 62,
      "outputs": [
        {
          "output_type": "execute_result",
          "data": {
            "text/plain": [
              "(829709,)"
            ]
          },
          "metadata": {},
          "execution_count": 62
        }
      ]
    },
    {
      "cell_type": "markdown",
      "source": [
        "# Análise das escalas dos atributos (Escalonamento)"
      ],
      "metadata": {
        "id": "d4CkszbpW4KZ"
      }
    },
    {
      "cell_type": "markdown",
      "source": [
        "alvo = variável que se pretende atingir (evadido ou não).\n",
        "\n",
        "previsores = conjunto de variáveis previsoras com as variáveis categóricas transformadas em numéricas manualmente, sem escalonar.\n",
        "\n",
        "previsores_esc = conjunto de variáveis previsoras com as variáveis categóricas transformadas em numéricas, escalonada."
      ],
      "metadata": {
        "id": "13RS-ovTX28q"
      }
    },
    {
      "cell_type": "markdown",
      "source": [
        "Padronização"
      ],
      "metadata": {
        "id": "taU3PtskW91L"
      }
    },
    {
      "cell_type": "code",
      "source": [
        "evasao2.describe()"
      ],
      "metadata": {
        "colab": {
          "base_uri": "https://localhost:8080/",
          "height": 364
        },
        "id": "1S2otM3jW5dJ",
        "outputId": "b7297ef3-25f9-4f19-a0df-1a696bdfa5b6"
      },
      "execution_count": 63,
      "outputs": [
        {
          "output_type": "execute_result",
          "data": {
            "text/plain": [
              "               Idade  Necessidade_especial       Cegueira    Baixa_visao  \\\n",
              "count  829709.000000         829709.000000  829709.000000  829709.000000   \n",
              "mean       10.066539              0.020222       0.000099       0.000828   \n",
              "std         2.670104              0.140757       0.009941       0.028763   \n",
              "min         1.000000              0.000000       0.000000       0.000000   \n",
              "25%         8.000000              0.000000       0.000000       0.000000   \n",
              "50%        10.000000              0.000000       0.000000       0.000000   \n",
              "75%        12.000000              0.000000       0.000000       0.000000   \n",
              "max        66.000000              1.000000       1.000000       1.000000   \n",
              "\n",
              "              Surdez   Def_auditiva  Surdocegueira     Def_fisica  \\\n",
              "count  829709.000000  829709.000000  829709.000000  829709.000000   \n",
              "mean        0.000710       0.000489       0.000001       0.002243   \n",
              "std         0.026634       0.022115       0.001098       0.047307   \n",
              "min         0.000000       0.000000       0.000000       0.000000   \n",
              "25%         0.000000       0.000000       0.000000       0.000000   \n",
              "50%         0.000000       0.000000       0.000000       0.000000   \n",
              "75%         0.000000       0.000000       0.000000       0.000000   \n",
              "max         1.000000       1.000000       1.000000       1.000000   \n",
              "\n",
              "       Def_intelectual   Def_multipla        Autismo       Asperger  \\\n",
              "count    829709.000000  829709.000000  829709.000000  829709.000000   \n",
              "mean          0.013174       0.000928       0.001290       0.000253   \n",
              "std           0.114022       0.030450       0.035888       0.015907   \n",
              "min           0.000000       0.000000       0.000000       0.000000   \n",
              "25%           0.000000       0.000000       0.000000       0.000000   \n",
              "50%           0.000000       0.000000       0.000000       0.000000   \n",
              "75%           0.000000       0.000000       0.000000       0.000000   \n",
              "max           1.000000       1.000000       1.000000       1.000000   \n",
              "\n",
              "                Rett  Transtorno_DI   Superdotacao   Etapa_ensino  \\\n",
              "count  829709.000000  829709.000000  829709.000000  829709.000000   \n",
              "mean        0.000007       0.001878       0.000833       4.630772   \n",
              "std         0.002689       0.043293       0.028847       2.328576   \n",
              "min         0.000000       0.000000       0.000000       1.000000   \n",
              "25%         0.000000       0.000000       0.000000       3.000000   \n",
              "50%         0.000000       0.000000       0.000000       5.000000   \n",
              "75%         0.000000       0.000000       0.000000       7.000000   \n",
              "max         1.000000       1.000000       1.000000       8.000000   \n",
              "\n",
              "              Status  \n",
              "count  829709.000000  \n",
              "mean        0.081774  \n",
              "std         0.274021  \n",
              "min         0.000000  \n",
              "25%         0.000000  \n",
              "50%         0.000000  \n",
              "75%         0.000000  \n",
              "max         1.000000  "
            ],
            "text/html": [
              "\n",
              "  <div id=\"df-59383231-9e78-4683-b333-90a5db1832bf\">\n",
              "    <div class=\"colab-df-container\">\n",
              "      <div>\n",
              "<style scoped>\n",
              "    .dataframe tbody tr th:only-of-type {\n",
              "        vertical-align: middle;\n",
              "    }\n",
              "\n",
              "    .dataframe tbody tr th {\n",
              "        vertical-align: top;\n",
              "    }\n",
              "\n",
              "    .dataframe thead th {\n",
              "        text-align: right;\n",
              "    }\n",
              "</style>\n",
              "<table border=\"1\" class=\"dataframe\">\n",
              "  <thead>\n",
              "    <tr style=\"text-align: right;\">\n",
              "      <th></th>\n",
              "      <th>Idade</th>\n",
              "      <th>Necessidade_especial</th>\n",
              "      <th>Cegueira</th>\n",
              "      <th>Baixa_visao</th>\n",
              "      <th>Surdez</th>\n",
              "      <th>Def_auditiva</th>\n",
              "      <th>Surdocegueira</th>\n",
              "      <th>Def_fisica</th>\n",
              "      <th>Def_intelectual</th>\n",
              "      <th>Def_multipla</th>\n",
              "      <th>Autismo</th>\n",
              "      <th>Asperger</th>\n",
              "      <th>Rett</th>\n",
              "      <th>Transtorno_DI</th>\n",
              "      <th>Superdotacao</th>\n",
              "      <th>Etapa_ensino</th>\n",
              "      <th>Status</th>\n",
              "    </tr>\n",
              "  </thead>\n",
              "  <tbody>\n",
              "    <tr>\n",
              "      <th>count</th>\n",
              "      <td>829709.000000</td>\n",
              "      <td>829709.000000</td>\n",
              "      <td>829709.000000</td>\n",
              "      <td>829709.000000</td>\n",
              "      <td>829709.000000</td>\n",
              "      <td>829709.000000</td>\n",
              "      <td>829709.000000</td>\n",
              "      <td>829709.000000</td>\n",
              "      <td>829709.000000</td>\n",
              "      <td>829709.000000</td>\n",
              "      <td>829709.000000</td>\n",
              "      <td>829709.000000</td>\n",
              "      <td>829709.000000</td>\n",
              "      <td>829709.000000</td>\n",
              "      <td>829709.000000</td>\n",
              "      <td>829709.000000</td>\n",
              "      <td>829709.000000</td>\n",
              "    </tr>\n",
              "    <tr>\n",
              "      <th>mean</th>\n",
              "      <td>10.066539</td>\n",
              "      <td>0.020222</td>\n",
              "      <td>0.000099</td>\n",
              "      <td>0.000828</td>\n",
              "      <td>0.000710</td>\n",
              "      <td>0.000489</td>\n",
              "      <td>0.000001</td>\n",
              "      <td>0.002243</td>\n",
              "      <td>0.013174</td>\n",
              "      <td>0.000928</td>\n",
              "      <td>0.001290</td>\n",
              "      <td>0.000253</td>\n",
              "      <td>0.000007</td>\n",
              "      <td>0.001878</td>\n",
              "      <td>0.000833</td>\n",
              "      <td>4.630772</td>\n",
              "      <td>0.081774</td>\n",
              "    </tr>\n",
              "    <tr>\n",
              "      <th>std</th>\n",
              "      <td>2.670104</td>\n",
              "      <td>0.140757</td>\n",
              "      <td>0.009941</td>\n",
              "      <td>0.028763</td>\n",
              "      <td>0.026634</td>\n",
              "      <td>0.022115</td>\n",
              "      <td>0.001098</td>\n",
              "      <td>0.047307</td>\n",
              "      <td>0.114022</td>\n",
              "      <td>0.030450</td>\n",
              "      <td>0.035888</td>\n",
              "      <td>0.015907</td>\n",
              "      <td>0.002689</td>\n",
              "      <td>0.043293</td>\n",
              "      <td>0.028847</td>\n",
              "      <td>2.328576</td>\n",
              "      <td>0.274021</td>\n",
              "    </tr>\n",
              "    <tr>\n",
              "      <th>min</th>\n",
              "      <td>1.000000</td>\n",
              "      <td>0.000000</td>\n",
              "      <td>0.000000</td>\n",
              "      <td>0.000000</td>\n",
              "      <td>0.000000</td>\n",
              "      <td>0.000000</td>\n",
              "      <td>0.000000</td>\n",
              "      <td>0.000000</td>\n",
              "      <td>0.000000</td>\n",
              "      <td>0.000000</td>\n",
              "      <td>0.000000</td>\n",
              "      <td>0.000000</td>\n",
              "      <td>0.000000</td>\n",
              "      <td>0.000000</td>\n",
              "      <td>0.000000</td>\n",
              "      <td>1.000000</td>\n",
              "      <td>0.000000</td>\n",
              "    </tr>\n",
              "    <tr>\n",
              "      <th>25%</th>\n",
              "      <td>8.000000</td>\n",
              "      <td>0.000000</td>\n",
              "      <td>0.000000</td>\n",
              "      <td>0.000000</td>\n",
              "      <td>0.000000</td>\n",
              "      <td>0.000000</td>\n",
              "      <td>0.000000</td>\n",
              "      <td>0.000000</td>\n",
              "      <td>0.000000</td>\n",
              "      <td>0.000000</td>\n",
              "      <td>0.000000</td>\n",
              "      <td>0.000000</td>\n",
              "      <td>0.000000</td>\n",
              "      <td>0.000000</td>\n",
              "      <td>0.000000</td>\n",
              "      <td>3.000000</td>\n",
              "      <td>0.000000</td>\n",
              "    </tr>\n",
              "    <tr>\n",
              "      <th>50%</th>\n",
              "      <td>10.000000</td>\n",
              "      <td>0.000000</td>\n",
              "      <td>0.000000</td>\n",
              "      <td>0.000000</td>\n",
              "      <td>0.000000</td>\n",
              "      <td>0.000000</td>\n",
              "      <td>0.000000</td>\n",
              "      <td>0.000000</td>\n",
              "      <td>0.000000</td>\n",
              "      <td>0.000000</td>\n",
              "      <td>0.000000</td>\n",
              "      <td>0.000000</td>\n",
              "      <td>0.000000</td>\n",
              "      <td>0.000000</td>\n",
              "      <td>0.000000</td>\n",
              "      <td>5.000000</td>\n",
              "      <td>0.000000</td>\n",
              "    </tr>\n",
              "    <tr>\n",
              "      <th>75%</th>\n",
              "      <td>12.000000</td>\n",
              "      <td>0.000000</td>\n",
              "      <td>0.000000</td>\n",
              "      <td>0.000000</td>\n",
              "      <td>0.000000</td>\n",
              "      <td>0.000000</td>\n",
              "      <td>0.000000</td>\n",
              "      <td>0.000000</td>\n",
              "      <td>0.000000</td>\n",
              "      <td>0.000000</td>\n",
              "      <td>0.000000</td>\n",
              "      <td>0.000000</td>\n",
              "      <td>0.000000</td>\n",
              "      <td>0.000000</td>\n",
              "      <td>0.000000</td>\n",
              "      <td>7.000000</td>\n",
              "      <td>0.000000</td>\n",
              "    </tr>\n",
              "    <tr>\n",
              "      <th>max</th>\n",
              "      <td>66.000000</td>\n",
              "      <td>1.000000</td>\n",
              "      <td>1.000000</td>\n",
              "      <td>1.000000</td>\n",
              "      <td>1.000000</td>\n",
              "      <td>1.000000</td>\n",
              "      <td>1.000000</td>\n",
              "      <td>1.000000</td>\n",
              "      <td>1.000000</td>\n",
              "      <td>1.000000</td>\n",
              "      <td>1.000000</td>\n",
              "      <td>1.000000</td>\n",
              "      <td>1.000000</td>\n",
              "      <td>1.000000</td>\n",
              "      <td>1.000000</td>\n",
              "      <td>8.000000</td>\n",
              "      <td>1.000000</td>\n",
              "    </tr>\n",
              "  </tbody>\n",
              "</table>\n",
              "</div>\n",
              "      <button class=\"colab-df-convert\" onclick=\"convertToInteractive('df-59383231-9e78-4683-b333-90a5db1832bf')\"\n",
              "              title=\"Convert this dataframe to an interactive table.\"\n",
              "              style=\"display:none;\">\n",
              "        \n",
              "  <svg xmlns=\"http://www.w3.org/2000/svg\" height=\"24px\"viewBox=\"0 0 24 24\"\n",
              "       width=\"24px\">\n",
              "    <path d=\"M0 0h24v24H0V0z\" fill=\"none\"/>\n",
              "    <path d=\"M18.56 5.44l.94 2.06.94-2.06 2.06-.94-2.06-.94-.94-2.06-.94 2.06-2.06.94zm-11 1L8.5 8.5l.94-2.06 2.06-.94-2.06-.94L8.5 2.5l-.94 2.06-2.06.94zm10 10l.94 2.06.94-2.06 2.06-.94-2.06-.94-.94-2.06-.94 2.06-2.06.94z\"/><path d=\"M17.41 7.96l-1.37-1.37c-.4-.4-.92-.59-1.43-.59-.52 0-1.04.2-1.43.59L10.3 9.45l-7.72 7.72c-.78.78-.78 2.05 0 2.83L4 21.41c.39.39.9.59 1.41.59.51 0 1.02-.2 1.41-.59l7.78-7.78 2.81-2.81c.8-.78.8-2.07 0-2.86zM5.41 20L4 18.59l7.72-7.72 1.47 1.35L5.41 20z\"/>\n",
              "  </svg>\n",
              "      </button>\n",
              "      \n",
              "  <style>\n",
              "    .colab-df-container {\n",
              "      display:flex;\n",
              "      flex-wrap:wrap;\n",
              "      gap: 12px;\n",
              "    }\n",
              "\n",
              "    .colab-df-convert {\n",
              "      background-color: #E8F0FE;\n",
              "      border: none;\n",
              "      border-radius: 50%;\n",
              "      cursor: pointer;\n",
              "      display: none;\n",
              "      fill: #1967D2;\n",
              "      height: 32px;\n",
              "      padding: 0 0 0 0;\n",
              "      width: 32px;\n",
              "    }\n",
              "\n",
              "    .colab-df-convert:hover {\n",
              "      background-color: #E2EBFA;\n",
              "      box-shadow: 0px 1px 2px rgba(60, 64, 67, 0.3), 0px 1px 3px 1px rgba(60, 64, 67, 0.15);\n",
              "      fill: #174EA6;\n",
              "    }\n",
              "\n",
              "    [theme=dark] .colab-df-convert {\n",
              "      background-color: #3B4455;\n",
              "      fill: #D2E3FC;\n",
              "    }\n",
              "\n",
              "    [theme=dark] .colab-df-convert:hover {\n",
              "      background-color: #434B5C;\n",
              "      box-shadow: 0px 1px 3px 1px rgba(0, 0, 0, 0.15);\n",
              "      filter: drop-shadow(0px 1px 2px rgba(0, 0, 0, 0.3));\n",
              "      fill: #FFFFFF;\n",
              "    }\n",
              "  </style>\n",
              "\n",
              "      <script>\n",
              "        const buttonEl =\n",
              "          document.querySelector('#df-59383231-9e78-4683-b333-90a5db1832bf button.colab-df-convert');\n",
              "        buttonEl.style.display =\n",
              "          google.colab.kernel.accessAllowed ? 'block' : 'none';\n",
              "\n",
              "        async function convertToInteractive(key) {\n",
              "          const element = document.querySelector('#df-59383231-9e78-4683-b333-90a5db1832bf');\n",
              "          const dataTable =\n",
              "            await google.colab.kernel.invokeFunction('convertToInteractive',\n",
              "                                                     [key], {});\n",
              "          if (!dataTable) return;\n",
              "\n",
              "          const docLinkHtml = 'Like what you see? Visit the ' +\n",
              "            '<a target=\"_blank\" href=https://colab.research.google.com/notebooks/data_table.ipynb>data table notebook</a>'\n",
              "            + ' to learn more about interactive tables.';\n",
              "          element.innerHTML = '';\n",
              "          dataTable['output_type'] = 'display_data';\n",
              "          await google.colab.output.renderOutput(dataTable, element);\n",
              "          const docLink = document.createElement('div');\n",
              "          docLink.innerHTML = docLinkHtml;\n",
              "          element.appendChild(docLink);\n",
              "        }\n",
              "      </script>\n",
              "    </div>\n",
              "  </div>\n",
              "  "
            ]
          },
          "metadata": {},
          "execution_count": 63
        }
      ]
    },
    {
      "cell_type": "code",
      "source": [
        "from sklearn.preprocessing import StandardScaler"
      ],
      "metadata": {
        "id": "Niin2xjHXXZx"
      },
      "execution_count": 64,
      "outputs": []
    },
    {
      "cell_type": "code",
      "source": [
        "previsores_esc = StandardScaler().fit_transform(previsores)"
      ],
      "metadata": {
        "id": "4AWMuxZzXbuU"
      },
      "execution_count": 65,
      "outputs": []
    },
    {
      "cell_type": "code",
      "source": [
        "previsores_esc"
      ],
      "metadata": {
        "colab": {
          "base_uri": "https://localhost:8080/"
        },
        "id": "fNS791qYXfB-",
        "outputId": "52b6c2f8-3e98-425f-8a37-cb3131a94528"
      },
      "execution_count": 66,
      "outputs": [
        {
          "output_type": "execute_result",
          "data": {
            "text/plain": [
              "array([[ 1.09863237, -0.14366244, -0.00994181, ..., -0.11554386,\n",
              "        -0.03047783, -0.0359343 ],\n",
              "       [ 1.47314983, -0.14366244, -0.00994181, ..., -0.11554386,\n",
              "        -0.03047783, -0.0359343 ],\n",
              "       [ 0.72411491, -0.14366244, -0.00994181, ..., -0.11554386,\n",
              "        -0.03047783, -0.0359343 ],\n",
              "       ...,\n",
              "       [-1.52298986, -0.14366244, -0.00994181, ..., -0.11554386,\n",
              "        -0.03047783, -0.0359343 ],\n",
              "       [-1.1484724 , -0.14366244, -0.00994181, ..., -0.11554386,\n",
              "        -0.03047783, -0.0359343 ],\n",
              "       [-1.52298986, -0.14366244, -0.00994181, ..., -0.11554386,\n",
              "        -0.03047783, -0.0359343 ]])"
            ]
          },
          "metadata": {},
          "execution_count": 66
        }
      ]
    },
    {
      "cell_type": "code",
      "source": [
        "previsoresdf = pd.DataFrame(previsores_esc)\n",
        "previsoresdf"
      ],
      "metadata": {
        "colab": {
          "base_uri": "https://localhost:8080/",
          "height": 424
        },
        "id": "iCiRoPllXo0r",
        "outputId": "dec49c4e-1716-44c7-8e5e-9b4626239d35"
      },
      "execution_count": 67,
      "outputs": [
        {
          "output_type": "execute_result",
          "data": {
            "text/plain": [
              "              0         1         2         3         4         5         6   \\\n",
              "0       1.098632 -0.143662 -0.009942 -0.028787 -0.026653 -0.022126 -0.001098   \n",
              "1       1.473150 -0.143662 -0.009942 -0.028787 -0.026653 -0.022126 -0.001098   \n",
              "2       0.724115 -0.143662 -0.009942 -0.028787 -0.026653 -0.022126 -0.001098   \n",
              "3       0.724115 -0.143662 -0.009942 -0.028787 -0.026653 -0.022126 -0.001098   \n",
              "4       0.349597 -0.143662 -0.009942 -0.028787 -0.026653 -0.022126 -0.001098   \n",
              "...          ...       ...       ...       ...       ...       ...       ...   \n",
              "829704 -0.399437 -0.143662 -0.009942 -0.028787 -0.026653 -0.022126 -0.001098   \n",
              "829705 -0.399437 -0.143662 -0.009942 -0.028787 -0.026653 -0.022126 -0.001098   \n",
              "829706 -1.522990 -0.143662 -0.009942 -0.028787 -0.026653 -0.022126 -0.001098   \n",
              "829707 -1.148472 -0.143662 -0.009942 -0.028787 -0.026653 -0.022126 -0.001098   \n",
              "829708 -1.522990 -0.143662 -0.009942 -0.028787 -0.026653 -0.022126 -0.001098   \n",
              "\n",
              "              7         8         9         10  \n",
              "0      -0.047413 -0.115544 -0.030478 -0.035934  \n",
              "1      -0.047413 -0.115544 -0.030478 -0.035934  \n",
              "2      -0.047413 -0.115544 -0.030478 -0.035934  \n",
              "3      -0.047413 -0.115544 -0.030478 -0.035934  \n",
              "4      -0.047413 -0.115544 -0.030478 -0.035934  \n",
              "...          ...       ...       ...       ...  \n",
              "829704 -0.047413 -0.115544 -0.030478 -0.035934  \n",
              "829705 -0.047413 -0.115544 -0.030478 -0.035934  \n",
              "829706 -0.047413 -0.115544 -0.030478 -0.035934  \n",
              "829707 -0.047413 -0.115544 -0.030478 -0.035934  \n",
              "829708 -0.047413 -0.115544 -0.030478 -0.035934  \n",
              "\n",
              "[829709 rows x 11 columns]"
            ],
            "text/html": [
              "\n",
              "  <div id=\"df-6d65d5f0-7c1a-4c5f-bdeb-25951f379eb0\">\n",
              "    <div class=\"colab-df-container\">\n",
              "      <div>\n",
              "<style scoped>\n",
              "    .dataframe tbody tr th:only-of-type {\n",
              "        vertical-align: middle;\n",
              "    }\n",
              "\n",
              "    .dataframe tbody tr th {\n",
              "        vertical-align: top;\n",
              "    }\n",
              "\n",
              "    .dataframe thead th {\n",
              "        text-align: right;\n",
              "    }\n",
              "</style>\n",
              "<table border=\"1\" class=\"dataframe\">\n",
              "  <thead>\n",
              "    <tr style=\"text-align: right;\">\n",
              "      <th></th>\n",
              "      <th>0</th>\n",
              "      <th>1</th>\n",
              "      <th>2</th>\n",
              "      <th>3</th>\n",
              "      <th>4</th>\n",
              "      <th>5</th>\n",
              "      <th>6</th>\n",
              "      <th>7</th>\n",
              "      <th>8</th>\n",
              "      <th>9</th>\n",
              "      <th>10</th>\n",
              "    </tr>\n",
              "  </thead>\n",
              "  <tbody>\n",
              "    <tr>\n",
              "      <th>0</th>\n",
              "      <td>1.098632</td>\n",
              "      <td>-0.143662</td>\n",
              "      <td>-0.009942</td>\n",
              "      <td>-0.028787</td>\n",
              "      <td>-0.026653</td>\n",
              "      <td>-0.022126</td>\n",
              "      <td>-0.001098</td>\n",
              "      <td>-0.047413</td>\n",
              "      <td>-0.115544</td>\n",
              "      <td>-0.030478</td>\n",
              "      <td>-0.035934</td>\n",
              "    </tr>\n",
              "    <tr>\n",
              "      <th>1</th>\n",
              "      <td>1.473150</td>\n",
              "      <td>-0.143662</td>\n",
              "      <td>-0.009942</td>\n",
              "      <td>-0.028787</td>\n",
              "      <td>-0.026653</td>\n",
              "      <td>-0.022126</td>\n",
              "      <td>-0.001098</td>\n",
              "      <td>-0.047413</td>\n",
              "      <td>-0.115544</td>\n",
              "      <td>-0.030478</td>\n",
              "      <td>-0.035934</td>\n",
              "    </tr>\n",
              "    <tr>\n",
              "      <th>2</th>\n",
              "      <td>0.724115</td>\n",
              "      <td>-0.143662</td>\n",
              "      <td>-0.009942</td>\n",
              "      <td>-0.028787</td>\n",
              "      <td>-0.026653</td>\n",
              "      <td>-0.022126</td>\n",
              "      <td>-0.001098</td>\n",
              "      <td>-0.047413</td>\n",
              "      <td>-0.115544</td>\n",
              "      <td>-0.030478</td>\n",
              "      <td>-0.035934</td>\n",
              "    </tr>\n",
              "    <tr>\n",
              "      <th>3</th>\n",
              "      <td>0.724115</td>\n",
              "      <td>-0.143662</td>\n",
              "      <td>-0.009942</td>\n",
              "      <td>-0.028787</td>\n",
              "      <td>-0.026653</td>\n",
              "      <td>-0.022126</td>\n",
              "      <td>-0.001098</td>\n",
              "      <td>-0.047413</td>\n",
              "      <td>-0.115544</td>\n",
              "      <td>-0.030478</td>\n",
              "      <td>-0.035934</td>\n",
              "    </tr>\n",
              "    <tr>\n",
              "      <th>4</th>\n",
              "      <td>0.349597</td>\n",
              "      <td>-0.143662</td>\n",
              "      <td>-0.009942</td>\n",
              "      <td>-0.028787</td>\n",
              "      <td>-0.026653</td>\n",
              "      <td>-0.022126</td>\n",
              "      <td>-0.001098</td>\n",
              "      <td>-0.047413</td>\n",
              "      <td>-0.115544</td>\n",
              "      <td>-0.030478</td>\n",
              "      <td>-0.035934</td>\n",
              "    </tr>\n",
              "    <tr>\n",
              "      <th>...</th>\n",
              "      <td>...</td>\n",
              "      <td>...</td>\n",
              "      <td>...</td>\n",
              "      <td>...</td>\n",
              "      <td>...</td>\n",
              "      <td>...</td>\n",
              "      <td>...</td>\n",
              "      <td>...</td>\n",
              "      <td>...</td>\n",
              "      <td>...</td>\n",
              "      <td>...</td>\n",
              "    </tr>\n",
              "    <tr>\n",
              "      <th>829704</th>\n",
              "      <td>-0.399437</td>\n",
              "      <td>-0.143662</td>\n",
              "      <td>-0.009942</td>\n",
              "      <td>-0.028787</td>\n",
              "      <td>-0.026653</td>\n",
              "      <td>-0.022126</td>\n",
              "      <td>-0.001098</td>\n",
              "      <td>-0.047413</td>\n",
              "      <td>-0.115544</td>\n",
              "      <td>-0.030478</td>\n",
              "      <td>-0.035934</td>\n",
              "    </tr>\n",
              "    <tr>\n",
              "      <th>829705</th>\n",
              "      <td>-0.399437</td>\n",
              "      <td>-0.143662</td>\n",
              "      <td>-0.009942</td>\n",
              "      <td>-0.028787</td>\n",
              "      <td>-0.026653</td>\n",
              "      <td>-0.022126</td>\n",
              "      <td>-0.001098</td>\n",
              "      <td>-0.047413</td>\n",
              "      <td>-0.115544</td>\n",
              "      <td>-0.030478</td>\n",
              "      <td>-0.035934</td>\n",
              "    </tr>\n",
              "    <tr>\n",
              "      <th>829706</th>\n",
              "      <td>-1.522990</td>\n",
              "      <td>-0.143662</td>\n",
              "      <td>-0.009942</td>\n",
              "      <td>-0.028787</td>\n",
              "      <td>-0.026653</td>\n",
              "      <td>-0.022126</td>\n",
              "      <td>-0.001098</td>\n",
              "      <td>-0.047413</td>\n",
              "      <td>-0.115544</td>\n",
              "      <td>-0.030478</td>\n",
              "      <td>-0.035934</td>\n",
              "    </tr>\n",
              "    <tr>\n",
              "      <th>829707</th>\n",
              "      <td>-1.148472</td>\n",
              "      <td>-0.143662</td>\n",
              "      <td>-0.009942</td>\n",
              "      <td>-0.028787</td>\n",
              "      <td>-0.026653</td>\n",
              "      <td>-0.022126</td>\n",
              "      <td>-0.001098</td>\n",
              "      <td>-0.047413</td>\n",
              "      <td>-0.115544</td>\n",
              "      <td>-0.030478</td>\n",
              "      <td>-0.035934</td>\n",
              "    </tr>\n",
              "    <tr>\n",
              "      <th>829708</th>\n",
              "      <td>-1.522990</td>\n",
              "      <td>-0.143662</td>\n",
              "      <td>-0.009942</td>\n",
              "      <td>-0.028787</td>\n",
              "      <td>-0.026653</td>\n",
              "      <td>-0.022126</td>\n",
              "      <td>-0.001098</td>\n",
              "      <td>-0.047413</td>\n",
              "      <td>-0.115544</td>\n",
              "      <td>-0.030478</td>\n",
              "      <td>-0.035934</td>\n",
              "    </tr>\n",
              "  </tbody>\n",
              "</table>\n",
              "<p>829709 rows × 11 columns</p>\n",
              "</div>\n",
              "      <button class=\"colab-df-convert\" onclick=\"convertToInteractive('df-6d65d5f0-7c1a-4c5f-bdeb-25951f379eb0')\"\n",
              "              title=\"Convert this dataframe to an interactive table.\"\n",
              "              style=\"display:none;\">\n",
              "        \n",
              "  <svg xmlns=\"http://www.w3.org/2000/svg\" height=\"24px\"viewBox=\"0 0 24 24\"\n",
              "       width=\"24px\">\n",
              "    <path d=\"M0 0h24v24H0V0z\" fill=\"none\"/>\n",
              "    <path d=\"M18.56 5.44l.94 2.06.94-2.06 2.06-.94-2.06-.94-.94-2.06-.94 2.06-2.06.94zm-11 1L8.5 8.5l.94-2.06 2.06-.94-2.06-.94L8.5 2.5l-.94 2.06-2.06.94zm10 10l.94 2.06.94-2.06 2.06-.94-2.06-.94-.94-2.06-.94 2.06-2.06.94z\"/><path d=\"M17.41 7.96l-1.37-1.37c-.4-.4-.92-.59-1.43-.59-.52 0-1.04.2-1.43.59L10.3 9.45l-7.72 7.72c-.78.78-.78 2.05 0 2.83L4 21.41c.39.39.9.59 1.41.59.51 0 1.02-.2 1.41-.59l7.78-7.78 2.81-2.81c.8-.78.8-2.07 0-2.86zM5.41 20L4 18.59l7.72-7.72 1.47 1.35L5.41 20z\"/>\n",
              "  </svg>\n",
              "      </button>\n",
              "      \n",
              "  <style>\n",
              "    .colab-df-container {\n",
              "      display:flex;\n",
              "      flex-wrap:wrap;\n",
              "      gap: 12px;\n",
              "    }\n",
              "\n",
              "    .colab-df-convert {\n",
              "      background-color: #E8F0FE;\n",
              "      border: none;\n",
              "      border-radius: 50%;\n",
              "      cursor: pointer;\n",
              "      display: none;\n",
              "      fill: #1967D2;\n",
              "      height: 32px;\n",
              "      padding: 0 0 0 0;\n",
              "      width: 32px;\n",
              "    }\n",
              "\n",
              "    .colab-df-convert:hover {\n",
              "      background-color: #E2EBFA;\n",
              "      box-shadow: 0px 1px 2px rgba(60, 64, 67, 0.3), 0px 1px 3px 1px rgba(60, 64, 67, 0.15);\n",
              "      fill: #174EA6;\n",
              "    }\n",
              "\n",
              "    [theme=dark] .colab-df-convert {\n",
              "      background-color: #3B4455;\n",
              "      fill: #D2E3FC;\n",
              "    }\n",
              "\n",
              "    [theme=dark] .colab-df-convert:hover {\n",
              "      background-color: #434B5C;\n",
              "      box-shadow: 0px 1px 3px 1px rgba(0, 0, 0, 0.15);\n",
              "      filter: drop-shadow(0px 1px 2px rgba(0, 0, 0, 0.3));\n",
              "      fill: #FFFFFF;\n",
              "    }\n",
              "  </style>\n",
              "\n",
              "      <script>\n",
              "        const buttonEl =\n",
              "          document.querySelector('#df-6d65d5f0-7c1a-4c5f-bdeb-25951f379eb0 button.colab-df-convert');\n",
              "        buttonEl.style.display =\n",
              "          google.colab.kernel.accessAllowed ? 'block' : 'none';\n",
              "\n",
              "        async function convertToInteractive(key) {\n",
              "          const element = document.querySelector('#df-6d65d5f0-7c1a-4c5f-bdeb-25951f379eb0');\n",
              "          const dataTable =\n",
              "            await google.colab.kernel.invokeFunction('convertToInteractive',\n",
              "                                                     [key], {});\n",
              "          if (!dataTable) return;\n",
              "\n",
              "          const docLinkHtml = 'Like what you see? Visit the ' +\n",
              "            '<a target=\"_blank\" href=https://colab.research.google.com/notebooks/data_table.ipynb>data table notebook</a>'\n",
              "            + ' to learn more about interactive tables.';\n",
              "          element.innerHTML = '';\n",
              "          dataTable['output_type'] = 'display_data';\n",
              "          await google.colab.output.renderOutput(dataTable, element);\n",
              "          const docLink = document.createElement('div');\n",
              "          docLink.innerHTML = docLinkHtml;\n",
              "          element.appendChild(docLink);\n",
              "        }\n",
              "      </script>\n",
              "    </div>\n",
              "  </div>\n",
              "  "
            ]
          },
          "metadata": {},
          "execution_count": 67
        }
      ]
    },
    {
      "cell_type": "markdown",
      "source": [
        "# Bases de treino e teste"
      ],
      "metadata": {
        "id": "1NSKtHn3YgEE"
      }
    },
    {
      "cell_type": "markdown",
      "source": [
        "A seguir, a criação das bases de treino e teste para serem utilizadas nos algoritmos."
      ],
      "metadata": {
        "id": "-SXRHyb3d0vB"
      }
    },
    {
      "cell_type": "code",
      "source": [
        "from sklearn.model_selection import train_test_split"
      ],
      "metadata": {
        "id": "unwDq_vsYjbB"
      },
      "execution_count": 68,
      "outputs": []
    },
    {
      "cell_type": "markdown",
      "source": [
        "Utilizaremos o test size de 10%, uma vez que o target evasão representa 0.08% dos dados do dataset total."
      ],
      "metadata": {
        "id": "Dk8D-E56diWS"
      }
    },
    {
      "cell_type": "code",
      "source": [
        "x_treino, x_teste, y_treino, y_teste = train_test_split(previsores_esc, alvo, test_size = 0.1, random_state = 0)"
      ],
      "metadata": {
        "id": "KtdJEdxHYrzx"
      },
      "execution_count": 69,
      "outputs": []
    },
    {
      "cell_type": "markdown",
      "source": [
        "Conforme os parametros acima, a seguir, o tamanho de cada uma das bases."
      ],
      "metadata": {
        "id": "tZJKoBxjfZXp"
      }
    },
    {
      "cell_type": "code",
      "source": [
        "x_treino.shape"
      ],
      "metadata": {
        "colab": {
          "base_uri": "https://localhost:8080/"
        },
        "id": "VHQcOzvZY-e-",
        "outputId": "41f51d51-14da-4943-f950-f4a0d0743f8d"
      },
      "execution_count": 70,
      "outputs": [
        {
          "output_type": "execute_result",
          "data": {
            "text/plain": [
              "(746738, 11)"
            ]
          },
          "metadata": {},
          "execution_count": 70
        }
      ]
    },
    {
      "cell_type": "code",
      "source": [
        "x_teste.shape"
      ],
      "metadata": {
        "colab": {
          "base_uri": "https://localhost:8080/"
        },
        "id": "iLgbDP51ZBqR",
        "outputId": "de387847-494b-49af-b9e0-4908c5fe27d0"
      },
      "execution_count": 71,
      "outputs": [
        {
          "output_type": "execute_result",
          "data": {
            "text/plain": [
              "(82971, 11)"
            ]
          },
          "metadata": {},
          "execution_count": 71
        }
      ]
    },
    {
      "cell_type": "code",
      "source": [
        "y_treino.shape"
      ],
      "metadata": {
        "colab": {
          "base_uri": "https://localhost:8080/"
        },
        "id": "lR76MhR6ZFjC",
        "outputId": "7fcf48a4-6190-476d-c62b-5e6aea3fb01d"
      },
      "execution_count": 72,
      "outputs": [
        {
          "output_type": "execute_result",
          "data": {
            "text/plain": [
              "(746738,)"
            ]
          },
          "metadata": {},
          "execution_count": 72
        }
      ]
    },
    {
      "cell_type": "code",
      "source": [
        "y_teste.shape"
      ],
      "metadata": {
        "colab": {
          "base_uri": "https://localhost:8080/"
        },
        "id": "Dk35zCgvZKUx",
        "outputId": "e750d39f-6a29-43ca-d2f2-cac8636e23bb"
      },
      "execution_count": 73,
      "outputs": [
        {
          "output_type": "execute_result",
          "data": {
            "text/plain": [
              "(82971,)"
            ]
          },
          "metadata": {},
          "execution_count": 73
        }
      ]
    },
    {
      "cell_type": "markdown",
      "source": [
        "# Árvore de decisão"
      ],
      "metadata": {
        "id": "D9WrjAc1aD37"
      }
    },
    {
      "cell_type": "markdown",
      "source": [
        "A seguir, o uso do modelo de árvore de decisão."
      ],
      "metadata": {
        "id": "a4ZBmSVIfkQt"
      }
    },
    {
      "cell_type": "code",
      "source": [
        "from sklearn.tree import DecisionTreeClassifier\n",
        "from sklearn import tree"
      ],
      "metadata": {
        "id": "YaSoE5KQaIRt"
      },
      "execution_count": 74,
      "outputs": []
    },
    {
      "cell_type": "code",
      "source": [
        "arvore = DecisionTreeClassifier(criterion='entropy', random_state=0, max_depth=3)\n",
        "_arvore = arvore.fit(x_treino, y_treino)"
      ],
      "metadata": {
        "id": "7SCBP-2RaRSc"
      },
      "execution_count": 75,
      "outputs": []
    },
    {
      "cell_type": "code",
      "source": [
        "tree.plot_tree(_arvore)"
      ],
      "metadata": {
        "colab": {
          "base_uri": "https://localhost:8080/",
          "height": 404
        },
        "id": "dbm5t0qyaZoU",
        "outputId": "22b87c98-1b39-4986-ff16-d28225b664f9"
      },
      "execution_count": 76,
      "outputs": [
        {
          "output_type": "execute_result",
          "data": {
            "text/plain": [
              "[Text(0.375, 0.875, 'X[1] <= 3.409\\nentropy = 0.003\\nsamples = 746738\\nvalue = [746552, 186]'),\n",
              " Text(0.25, 0.625, 'entropy = 0.0\\nsamples = 731648\\nvalue = [731648, 0]'),\n",
              " Text(0.5, 0.625, 'X[8] <= 4.27\\nentropy = 0.096\\nsamples = 15090\\nvalue = [14904, 186]'),\n",
              " Text(0.25, 0.375, 'X[7] <= 10.522\\nentropy = 0.216\\nsamples = 5260\\nvalue = [5079, 181]'),\n",
              " Text(0.125, 0.125, 'entropy = 0.254\\nsamples = 4178\\nvalue = [4000, 178]'),\n",
              " Text(0.375, 0.125, 'entropy = 0.028\\nsamples = 1082\\nvalue = [1079, 3]'),\n",
              " Text(0.75, 0.375, 'X[0] <= -1.336\\nentropy = 0.006\\nsamples = 9830\\nvalue = [9825, 5]'),\n",
              " Text(0.625, 0.125, 'entropy = 0.061\\nsamples = 141\\nvalue = [140, 1]'),\n",
              " Text(0.875, 0.125, 'entropy = 0.005\\nsamples = 9689\\nvalue = [9685, 4]')]"
            ]
          },
          "metadata": {},
          "execution_count": 76
        },
        {
          "output_type": "display_data",
          "data": {
            "text/plain": [
              "<Figure size 432x288 with 1 Axes>"
            ],
            "image/png": "[encoded data removed]"
          },
          "metadata": {
            "needs_background": "light"
          }
        }
      ]
    },
    {
      "cell_type": "code",
      "source": [
        "previsoes_arvore = arvore.predict(x_teste)\n",
        "previsoes_arvore"
      ],
      "metadata": {
        "colab": {
          "base_uri": "https://localhost:8080/"
        },
        "id": "qE2LVXCeagmV",
        "outputId": "4b53e135-628e-45b1-d111-1b45014282d2"
      },
      "execution_count": 77,
      "outputs": [
        {
          "output_type": "execute_result",
          "data": {
            "text/plain": [
              "array([0., 0., 0., ..., 0., 0., 0.])"
            ]
          },
          "metadata": {},
          "execution_count": 77
        }
      ]
    },
    {
      "cell_type": "code",
      "source": [
        "y_teste"
      ],
      "metadata": {
        "colab": {
          "base_uri": "https://localhost:8080/"
        },
        "id": "AxxS6_2BaqWJ",
        "outputId": "a4063f9a-da5c-42bf-8216-cb38c96325e2"
      },
      "execution_count": 78,
      "outputs": [
        {
          "output_type": "execute_result",
          "data": {
            "text/plain": [
              "array([0., 0., 0., ..., 0., 0., 0.])"
            ]
          },
          "metadata": {},
          "execution_count": 78
        }
      ]
    },
    {
      "cell_type": "code",
      "source": [
        "from sklearn.metrics import accuracy_score, confusion_matrix, classification_report"
      ],
      "metadata": {
        "id": "VH0e2hffaxUG"
      },
      "execution_count": 79,
      "outputs": []
    },
    {
      "cell_type": "code",
      "source": [
        "print(\"Acurácia: %.2f%%\" % (accuracy_score(y_teste, previsoes_arvore) * 100.0))"
      ],
      "metadata": {
        "colab": {
          "base_uri": "https://localhost:8080/"
        },
        "id": "aC9xqOtTa1Pn",
        "outputId": "7ce02bb7-fb00-44a2-9b75-282be4426b92"
      },
      "execution_count": 80,
      "outputs": [
        {
          "output_type": "stream",
          "name": "stdout",
          "text": [
            "Acurácia: 99.97%\n"
          ]
        }
      ]
    },
    {
      "cell_type": "code",
      "source": [
        "confusion_matrix(y_teste, previsoes_arvore)"
      ],
      "metadata": {
        "colab": {
          "base_uri": "https://localhost:8080/"
        },
        "id": "3YBOdDrxa72j",
        "outputId": "63e5ce56-efe8-4025-8ffa-2085f2479d9e"
      },
      "execution_count": 81,
      "outputs": [
        {
          "output_type": "execute_result",
          "data": {
            "text/plain": [
              "array([[82947,     0],\n",
              "       [   24,     0]])"
            ]
          },
          "metadata": {},
          "execution_count": 81
        }
      ]
    },
    {
      "cell_type": "code",
      "source": [
        "print(classification_report(y_teste, previsoes_arvore))"
      ],
      "metadata": {
        "colab": {
          "base_uri": "https://localhost:8080/"
        },
        "id": "_NsQI2zMbSCJ",
        "outputId": "352c1d13-57ff-409d-ab58-b5d0ee983fd9"
      },
      "execution_count": 82,
      "outputs": [
        {
          "output_type": "stream",
          "name": "stdout",
          "text": [
            "              precision    recall  f1-score   support\n",
            "\n",
            "         0.0       1.00      1.00      1.00     82947\n",
            "         1.0       0.00      0.00      0.00        24\n",
            "\n",
            "    accuracy                           1.00     82971\n",
            "   macro avg       0.50      0.50      0.50     82971\n",
            "weighted avg       1.00      1.00      1.00     82971\n",
            "\n"
          ]
        },
        {
          "output_type": "stream",
          "name": "stderr",
          "text": [
            "/usr/local/lib/python3.7/dist-packages/sklearn/metrics/_classification.py:1318: UndefinedMetricWarning: Precision and F-score are ill-defined and being set to 0.0 in labels with no predicted samples. Use `zero_division` parameter to control this behavior.\n",
            "  _warn_prf(average, modifier, msg_start, len(result))\n",
            "/usr/local/lib/python3.7/dist-packages/sklearn/metrics/_classification.py:1318: UndefinedMetricWarning: Precision and F-score are ill-defined and being set to 0.0 in labels with no predicted samples. Use `zero_division` parameter to control this behavior.\n",
            "  _warn_prf(average, modifier, msg_start, len(result))\n",
            "/usr/local/lib/python3.7/dist-packages/sklearn/metrics/_classification.py:1318: UndefinedMetricWarning: Precision and F-score are ill-defined and being set to 0.0 in labels with no predicted samples. Use `zero_division` parameter to control this behavior.\n",
            "  _warn_prf(average, modifier, msg_start, len(result))\n"
          ]
        }
      ]
    },
    {
      "cell_type": "markdown",
      "source": [
        "Análise dados de treino"
      ],
      "metadata": {
        "id": "DX4grEZVcGmB"
      }
    },
    {
      "cell_type": "code",
      "source": [
        "previsoes_treino = arvore.predict(x_treino)\n",
        "previsoes_treino"
      ],
      "metadata": {
        "colab": {
          "base_uri": "https://localhost:8080/"
        },
        "id": "bix_vXfVcIlM",
        "outputId": "75d55e63-0b2b-4ecf-e828-f19727b24c62"
      },
      "execution_count": null,
      "outputs": [
        {
          "output_type": "execute_result",
          "data": {
            "text/plain": [
              "array([0., 0., 0., ..., 0., 0., 0.])"
            ]
          },
          "metadata": {},
          "execution_count": 49
        }
      ]
    },
    {
      "cell_type": "code",
      "source": [
        "accuracy_score(y_treino, previsoes_treino)"
      ],
      "metadata": {
        "colab": {
          "base_uri": "https://localhost:8080/"
        },
        "id": "wDAMrtGqcQWE",
        "outputId": "6e53987e-baa6-437c-9dbd-0929f971ad61"
      },
      "execution_count": null,
      "outputs": [
        {
          "output_type": "execute_result",
          "data": {
            "text/plain": [
              "0.9997509166534982"
            ]
          },
          "metadata": {},
          "execution_count": 50
        }
      ]
    },
    {
      "cell_type": "code",
      "source": [
        "print(\"Acurácia: %.2f%%\" % (accuracy_score(y_treino, previsoes_treino) * 100.0))"
      ],
      "metadata": {
        "colab": {
          "base_uri": "https://localhost:8080/"
        },
        "id": "b-a4daKEcUTW",
        "outputId": "dfe6bed0-fc9b-4c77-b5c2-729ccac911fe"
      },
      "execution_count": null,
      "outputs": [
        {
          "output_type": "stream",
          "name": "stdout",
          "text": [
            "Acurácia: 99.98%\n"
          ]
        }
      ]
    },
    {
      "cell_type": "code",
      "source": [
        "confusion_matrix(y_treino, previsoes_treino)"
      ],
      "metadata": {
        "colab": {
          "base_uri": "https://localhost:8080/"
        },
        "id": "b8R76Gq9ccDR",
        "outputId": "fcaa87b3-9da6-499c-d901-ca39f56a22b1"
      },
      "execution_count": null,
      "outputs": [
        {
          "output_type": "execute_result",
          "data": {
            "text/plain": [
              "array([[746552,      0],\n",
              "       [   186,      0]])"
            ]
          },
          "metadata": {},
          "execution_count": 52
        }
      ]
    },
    {
      "cell_type": "markdown",
      "source": [
        "# Random Forest"
      ],
      "metadata": {
        "id": "Kv19zVqjiOuD"
      }
    },
    {
      "cell_type": "markdown",
      "source": [
        "A seguir, o uso do modelo Random Forest."
      ],
      "metadata": {
        "id": "tA2Q9gOsfr62"
      }
    },
    {
      "cell_type": "code",
      "source": [
        "from sklearn.ensemble import RandomForestClassifier"
      ],
      "metadata": {
        "id": "dCN28D_DiQjY"
      },
      "execution_count": null,
      "outputs": []
    },
    {
      "cell_type": "code",
      "source": [
        "random = RandomForestClassifier(n_estimators=150, criterion='entropy', random_state=0, max_depth=4)\n",
        "random.fit(x_treino, y_treino)"
      ],
      "metadata": {
        "colab": {
          "base_uri": "https://localhost:8080/"
        },
        "id": "aP2TOT90iXCm",
        "outputId": "0e084082-e328-42e2-ad3c-149d87b3204d"
      },
      "execution_count": null,
      "outputs": [
        {
          "output_type": "execute_result",
          "data": {
            "text/plain": [
              "RandomForestClassifier(criterion='entropy', max_depth=4, n_estimators=150,\n",
              "                       random_state=0)"
            ]
          },
          "metadata": {},
          "execution_count": 54
        }
      ]
    },
    {
      "cell_type": "code",
      "source": [
        "previsoes_random = random.predict(x_teste)\n",
        "previsoes_random"
      ],
      "metadata": {
        "colab": {
          "base_uri": "https://localhost:8080/"
        },
        "id": "PpBOwpToks0X",
        "outputId": "811305df-c3b3-41f9-bff3-5290a01e4735"
      },
      "execution_count": null,
      "outputs": [
        {
          "output_type": "execute_result",
          "data": {
            "text/plain": [
              "array([0., 0., 0., ..., 0., 0., 0.])"
            ]
          },
          "metadata": {},
          "execution_count": 55
        }
      ]
    },
    {
      "cell_type": "code",
      "source": [
        "y_teste"
      ],
      "metadata": {
        "colab": {
          "base_uri": "https://localhost:8080/"
        },
        "id": "GYWYjZZskx3H",
        "outputId": "2dbd5706-87f6-4200-beea-e74e5b5c8117"
      },
      "execution_count": null,
      "outputs": [
        {
          "output_type": "execute_result",
          "data": {
            "text/plain": [
              "array([0., 0., 0., ..., 0., 0., 0.])"
            ]
          },
          "metadata": {},
          "execution_count": 56
        }
      ]
    },
    {
      "cell_type": "code",
      "source": [
        "from sklearn.metrics import accuracy_score, confusion_matrix, classification_report"
      ],
      "metadata": {
        "id": "Yer2e4Vtk2Bo"
      },
      "execution_count": null,
      "outputs": []
    },
    {
      "cell_type": "code",
      "source": [
        "print(\"Acurácia: %.2f%%\" % (accuracy_score(y_teste, previsoes_random) * 100.0))"
      ],
      "metadata": {
        "colab": {
          "base_uri": "https://localhost:8080/"
        },
        "id": "6eMTksyKk63S",
        "outputId": "1e0d8415-9e3c-43a7-b576-9f9401fae3f1"
      },
      "execution_count": null,
      "outputs": [
        {
          "output_type": "stream",
          "name": "stdout",
          "text": [
            "Acurácia: 99.97%\n"
          ]
        }
      ]
    },
    {
      "cell_type": "code",
      "source": [
        "confusion_matrix(y_teste, previsoes_random)"
      ],
      "metadata": {
        "colab": {
          "base_uri": "https://localhost:8080/"
        },
        "id": "xL3byG1HlIGN",
        "outputId": "e242e55b-dca7-4a62-eabc-1378ac391d54"
      },
      "execution_count": null,
      "outputs": [
        {
          "output_type": "execute_result",
          "data": {
            "text/plain": [
              "array([[82947,     0],\n",
              "       [   24,     0]])"
            ]
          },
          "metadata": {},
          "execution_count": 59
        }
      ]
    },
    {
      "cell_type": "code",
      "source": [
        "print(classification_report(y_teste, previsoes_random))"
      ],
      "metadata": {
        "colab": {
          "base_uri": "https://localhost:8080/"
        },
        "id": "PVNP8WWxlMP-",
        "outputId": "435c1f07-a384-46f7-fd3d-c802014155ac"
      },
      "execution_count": null,
      "outputs": [
        {
          "output_type": "stream",
          "name": "stdout",
          "text": [
            "              precision    recall  f1-score   support\n",
            "\n",
            "         0.0       1.00      1.00      1.00     82947\n",
            "         1.0       0.00      0.00      0.00        24\n",
            "\n",
            "    accuracy                           1.00     82971\n",
            "   macro avg       0.50      0.50      0.50     82971\n",
            "weighted avg       1.00      1.00      1.00     82971\n",
            "\n"
          ]
        },
        {
          "output_type": "stream",
          "name": "stderr",
          "text": [
            "/usr/local/lib/python3.7/dist-packages/sklearn/metrics/_classification.py:1318: UndefinedMetricWarning: Precision and F-score are ill-defined and being set to 0.0 in labels with no predicted samples. Use `zero_division` parameter to control this behavior.\n",
            "  _warn_prf(average, modifier, msg_start, len(result))\n",
            "/usr/local/lib/python3.7/dist-packages/sklearn/metrics/_classification.py:1318: UndefinedMetricWarning: Precision and F-score are ill-defined and being set to 0.0 in labels with no predicted samples. Use `zero_division` parameter to control this behavior.\n",
            "  _warn_prf(average, modifier, msg_start, len(result))\n",
            "/usr/local/lib/python3.7/dist-packages/sklearn/metrics/_classification.py:1318: UndefinedMetricWarning: Precision and F-score are ill-defined and being set to 0.0 in labels with no predicted samples. Use `zero_division` parameter to control this behavior.\n",
            "  _warn_prf(average, modifier, msg_start, len(result))\n"
          ]
        }
      ]
    },
    {
      "cell_type": "markdown",
      "source": [
        "Análise dados de treino"
      ],
      "metadata": {
        "id": "2KtTPYPplR_D"
      }
    },
    {
      "cell_type": "code",
      "source": [
        "previsoes_treino = random.predict(x_treino)\n",
        "previsoes_treino"
      ],
      "metadata": {
        "colab": {
          "base_uri": "https://localhost:8080/"
        },
        "id": "ylyaVqb4lTYK",
        "outputId": "01b7b17b-923b-4646-a6f8-c4385b8bdabb"
      },
      "execution_count": null,
      "outputs": [
        {
          "output_type": "execute_result",
          "data": {
            "text/plain": [
              "array([0., 0., 0., ..., 0., 0., 0.])"
            ]
          },
          "metadata": {},
          "execution_count": 61
        }
      ]
    },
    {
      "cell_type": "code",
      "source": [
        "accuracy_score(y_treino, previsoes_treino)"
      ],
      "metadata": {
        "colab": {
          "base_uri": "https://localhost:8080/"
        },
        "id": "kte5BN_enQT7",
        "outputId": "f82b7b24-b17f-4fe8-b313-a467d29091d0"
      },
      "execution_count": null,
      "outputs": [
        {
          "output_type": "execute_result",
          "data": {
            "text/plain": [
              "0.9997509166534982"
            ]
          },
          "metadata": {},
          "execution_count": 62
        }
      ]
    },
    {
      "cell_type": "code",
      "source": [
        "confusion_matrix(y_treino, previsoes_treino)"
      ],
      "metadata": {
        "colab": {
          "base_uri": "https://localhost:8080/"
        },
        "id": "Hws8lcQLnVSI",
        "outputId": "cee6e539-fe40-43a1-e9d7-ec2e63fdf31b"
      },
      "execution_count": null,
      "outputs": [
        {
          "output_type": "execute_result",
          "data": {
            "text/plain": [
              "array([[746552,      0],\n",
              "       [   186,      0]])"
            ]
          },
          "metadata": {},
          "execution_count": 63
        }
      ]
    },
    {
      "cell_type": "markdown",
      "source": [
        "# Regressão logística"
      ],
      "metadata": {
        "id": "tS7BB58fpW1t"
      }
    },
    {
      "cell_type": "markdown",
      "source": [
        "A seguir, o uso do modelo Regressão Logística."
      ],
      "metadata": {
        "id": "3cQ5CT3Vfxub"
      }
    },
    {
      "cell_type": "code",
      "source": [
        "from sklearn.linear_model import LogisticRegression"
      ],
      "metadata": {
        "id": "U6PkGxGXpZc9"
      },
      "execution_count": null,
      "outputs": []
    },
    {
      "cell_type": "code",
      "source": [
        "logistica = LogisticRegression(random_state=1, max_iter=1500, penalty=\"l2\", tol=0.0001, C=2, solver=\"lbfgs\")\n",
        "logistica.fit(x_treino, y_treino)"
      ],
      "metadata": {
        "colab": {
          "base_uri": "https://localhost:8080/"
        },
        "id": "m9iA5ZU5sMQk",
        "outputId": "0cfcef4f-39ce-4fea-ed21-d641f377dc83"
      },
      "execution_count": null,
      "outputs": [
        {
          "output_type": "execute_result",
          "data": {
            "text/plain": [
              "LogisticRegression(C=2, max_iter=1500, random_state=1)"
            ]
          },
          "metadata": {},
          "execution_count": 66
        }
      ]
    },
    {
      "cell_type": "code",
      "source": [
        "logistica.intercept_"
      ],
      "metadata": {
        "colab": {
          "base_uri": "https://localhost:8080/"
        },
        "id": "hdyPtj69sfkT",
        "outputId": "4961f90b-48f8-463d-9d80-280dbfa26ab6"
      },
      "execution_count": null,
      "outputs": [
        {
          "output_type": "execute_result",
          "data": {
            "text/plain": [
              "array([-15.38185989])"
            ]
          },
          "metadata": {},
          "execution_count": 67
        }
      ]
    },
    {
      "cell_type": "code",
      "source": [
        "logistica.coef_"
      ],
      "metadata": {
        "colab": {
          "base_uri": "https://localhost:8080/"
        },
        "id": "piKjkl-nsuD3",
        "outputId": "ccb82208-722a-4866-a929-48f3ddbcd15e"
      },
      "execution_count": null,
      "outputs": [
        {
          "output_type": "execute_result",
          "data": {
            "text/plain": [
              "array([[ 0.18259027,  1.867763  , -0.09674628, -0.11574164, -0.2581813 ,\n",
              "        -0.21716668, -0.00959748, -0.17059514, -0.62515002, -0.06723857,\n",
              "        -0.16193318]])"
            ]
          },
          "metadata": {},
          "execution_count": 68
        }
      ]
    },
    {
      "cell_type": "code",
      "source": [
        "previsoes_logistica = logistica.predict(x_teste)\n",
        "previsoes_logistica"
      ],
      "metadata": {
        "colab": {
          "base_uri": "https://localhost:8080/"
        },
        "id": "rM1unW1isy_d",
        "outputId": "92e7d097-cf32-41b2-dec3-0bfded06a9b6"
      },
      "execution_count": null,
      "outputs": [
        {
          "output_type": "execute_result",
          "data": {
            "text/plain": [
              "array([0., 0., 0., ..., 0., 0., 0.])"
            ]
          },
          "metadata": {},
          "execution_count": 69
        }
      ]
    },
    {
      "cell_type": "code",
      "source": [
        "from sklearn.metrics import accuracy_score, confusion_matrix, classification_report"
      ],
      "metadata": {
        "id": "PkNFu5XLs75Y"
      },
      "execution_count": null,
      "outputs": []
    },
    {
      "cell_type": "code",
      "source": [
        "print(\"Acurácia: %.2f%%\" % (accuracy_score(y_teste, previsoes_logistica) * 100.0))"
      ],
      "metadata": {
        "colab": {
          "base_uri": "https://localhost:8080/"
        },
        "id": "2r1JN6Zfs_vQ",
        "outputId": "34afaaf6-2906-4486-9fe6-fa5a7ecf35ab"
      },
      "execution_count": null,
      "outputs": [
        {
          "output_type": "stream",
          "name": "stdout",
          "text": [
            "Acurácia: 99.97%\n"
          ]
        }
      ]
    },
    {
      "cell_type": "code",
      "source": [
        "confusion_matrix(y_teste, previsoes_logistica)"
      ],
      "metadata": {
        "colab": {
          "base_uri": "https://localhost:8080/"
        },
        "id": "t9A0KMh1tDLi",
        "outputId": "beb5571f-65cb-4c62-b71a-b0a6df7a7ebc"
      },
      "execution_count": null,
      "outputs": [
        {
          "output_type": "execute_result",
          "data": {
            "text/plain": [
              "array([[82947,     0],\n",
              "       [   24,     0]])"
            ]
          },
          "metadata": {},
          "execution_count": 72
        }
      ]
    },
    {
      "cell_type": "code",
      "source": [
        "print(classification_report(y_teste, previsoes_logistica))"
      ],
      "metadata": {
        "colab": {
          "base_uri": "https://localhost:8080/"
        },
        "id": "ramfbZLbtIOV",
        "outputId": "1aa8e013-c993-45ee-8420-a71e73f4c341"
      },
      "execution_count": null,
      "outputs": [
        {
          "output_type": "stream",
          "name": "stdout",
          "text": [
            "              precision    recall  f1-score   support\n",
            "\n",
            "         0.0       1.00      1.00      1.00     82947\n",
            "         1.0       0.00      0.00      0.00        24\n",
            "\n",
            "    accuracy                           1.00     82971\n",
            "   macro avg       0.50      0.50      0.50     82971\n",
            "weighted avg       1.00      1.00      1.00     82971\n",
            "\n"
          ]
        },
        {
          "output_type": "stream",
          "name": "stderr",
          "text": [
            "/usr/local/lib/python3.7/dist-packages/sklearn/metrics/_classification.py:1318: UndefinedMetricWarning: Precision and F-score are ill-defined and being set to 0.0 in labels with no predicted samples. Use `zero_division` parameter to control this behavior.\n",
            "  _warn_prf(average, modifier, msg_start, len(result))\n",
            "/usr/local/lib/python3.7/dist-packages/sklearn/metrics/_classification.py:1318: UndefinedMetricWarning: Precision and F-score are ill-defined and being set to 0.0 in labels with no predicted samples. Use `zero_division` parameter to control this behavior.\n",
            "  _warn_prf(average, modifier, msg_start, len(result))\n",
            "/usr/local/lib/python3.7/dist-packages/sklearn/metrics/_classification.py:1318: UndefinedMetricWarning: Precision and F-score are ill-defined and being set to 0.0 in labels with no predicted samples. Use `zero_division` parameter to control this behavior.\n",
            "  _warn_prf(average, modifier, msg_start, len(result))\n"
          ]
        }
      ]
    },
    {
      "cell_type": "markdown",
      "source": [
        "Análise dos dados de treino"
      ],
      "metadata": {
        "id": "vIos_W92tL8g"
      }
    },
    {
      "cell_type": "code",
      "source": [
        "previsoes_treino = logistica.predict(x_treino)\n",
        "previsoes_treino"
      ],
      "metadata": {
        "colab": {
          "base_uri": "https://localhost:8080/"
        },
        "id": "qGQuKdHxtPAi",
        "outputId": "34744814-7c4b-4589-db5d-4c8541528036"
      },
      "execution_count": null,
      "outputs": [
        {
          "output_type": "execute_result",
          "data": {
            "text/plain": [
              "array([0., 0., 0., ..., 0., 0., 0.])"
            ]
          },
          "metadata": {},
          "execution_count": 74
        }
      ]
    },
    {
      "cell_type": "code",
      "source": [
        "accuracy_score(y_treino, previsoes_treino)"
      ],
      "metadata": {
        "colab": {
          "base_uri": "https://localhost:8080/"
        },
        "id": "RuVmWpVytV14",
        "outputId": "7b259a75-8007-4e4a-b772-3fda38cebf52"
      },
      "execution_count": null,
      "outputs": [
        {
          "output_type": "execute_result",
          "data": {
            "text/plain": [
              "0.9997509166534982"
            ]
          },
          "metadata": {},
          "execution_count": 75
        }
      ]
    },
    {
      "cell_type": "code",
      "source": [
        "confusion_matrix(y_treino, previsoes_treino)"
      ],
      "metadata": {
        "id": "Kct-Y5nXtY0O",
        "outputId": "def453ac-db33-4526-af40-d1818a78cece",
        "colab": {
          "base_uri": "https://localhost:8080/"
        }
      },
      "execution_count": null,
      "outputs": [
        {
          "output_type": "execute_result",
          "data": {
            "text/plain": [
              "array([[746552,      0],\n",
              "       [   186,      0]])"
            ]
          },
          "metadata": {},
          "execution_count": 76
        }
      ]
    },
    {
      "cell_type": "markdown",
      "source": [
        "# Considerações finais"
      ],
      "metadata": {
        "id": "rA8sd8Myf3Ku"
      }
    },
    {
      "cell_type": "markdown",
      "source": [
        "Como é percebido, para os três algoritmos (Árvore de decisão, Random Forest e Regressão logística) obtivemos o mesmo resultado (acurácia alta, de 99,75%).\n",
        "Infelizmente, esse resultado não é real. Por termos um dataset desbalanceado com relação ao target (dataset com aproximadamente 900 mil linhas e target representando apenas 0.08% do total de dados) o aprendizado dos modelos foi comprometido. Nesses casos, o algoritmo assume um padrão e atribui o resultado esperado para todas as linhas, não sendo possível diferenciar os casos verdadeiros.\n",
        "Uma solução para essa questão é trabalhar manualmente no balanceamento do dataset e, com o modelo pronto, atribuir novos valores para teste.\n",
        "No modelo a seguir, uma tentativa de balanceamento dos dados com a aplicação do modelo Random Forest https://colab.research.google.com/drive/1-LQXgPQmBG_0Ai-kr3eLcU4RAruYM7s6 ."
      ],
      "metadata": {
        "id": "34nESTEmf7aZ"
      }
    }
  ]
}